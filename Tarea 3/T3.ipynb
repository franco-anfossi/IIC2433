{
 "cells": [
  {
   "cell_type": "markdown",
   "metadata": {},
   "source": [
    "Pontificia Universidad Católica de Chile <br>\n",
    "Departamento de Ciencia de la Computación <br>\n",
    "IIC2433 - Minería de Datos\n",
    "<br>\n",
    "\n",
    "<center>\n",
    "    <h2> Tarea 3 </h2>\n",
    "    <h1> MLP, Regresión Logística y Redes Bayesianas</h1>\n",
    "    <p>\n",
    "        Profesor Marcelo Mendoza<br>\n",
    "        Primer Semestre 2024<br>    \n",
    "        Fecha de entrega: 17 de mayo\n",
    "    </p>\n",
    "    <br>\n",
    "</center>\n",
    "\n",
    "<br>\n",
    "\n",
    "---"
   ]
  },
  {
   "cell_type": "markdown",
   "metadata": {},
   "source": [
    "## Indicaciones\n",
    "\n",
    "Deberás entregar **SOLO** el archivo .ipynb en el buzón respectivo en canvas.\n",
    "\n",
    "**IMPORTANTE**:\n",
    "- Se te dará puntaje tanto por código como por la manera en la que respondas las preguntas planteadas. Es decir, si tienes un código perfecto pero este no es explicado o no se responden preguntas asociadas a este, no se tendrá el puntaje completo.\n",
    "- El notebook debe tener todas las celdas de código ejecutadas. Cualquier notebook que no las tenga no podrá ser corregido.\n",
    "- El carácter de esta tarea es **INDIVIDUAL**. Cualquier instancia de copia resultará en un 1,1 como nota de curso.\n",
    "\n",
    "---"
   ]
  },
  {
   "cell_type": "markdown",
   "metadata": {},
   "source": [
    "## Librerías"
   ]
  },
  {
   "cell_type": "markdown",
   "metadata": {},
   "source": [
    "A continuación se encuentran las librerías necesarias para elaborar la tarea. Recuerda ejecutar la celda antes de comenzar."
   ]
  },
  {
   "cell_type": "code",
   "execution_count": 1,
   "metadata": {},
   "outputs": [],
   "source": [
    "import pandas as pd\n",
    "from keras.utils import to_categorical\n",
    "from sklearn.preprocessing import MinMaxScaler\n",
    "from sklearn.model_selection import train_test_split\n",
    "from matplotlib import pyplot as plt\n",
    "from sklearn.linear_model import LogisticRegression\n",
    "from matplotlib import pyplot as plt\n",
    "from sklearn.neighbors import LocalOutlierFactor\n",
    "from keras.models import Sequential\n",
    "from keras.layers import Dense, Input\n",
    "from keras.callbacks import EarlyStopping\n",
    "from sklearn.metrics import classification_report, accuracy_score\n",
    "from sklearn.metrics import confusion_matrix, ConfusionMatrixDisplay\n",
    "from typing import List\n",
    "import seaborn as sns\n",
    "from pgmpy.models import BayesianNetwork\n",
    "from pgmpy.estimators import BayesianEstimator, HillClimbSearch, BicScore\n",
    "from pgmpy.inference import VariableElimination"
   ]
  },
  {
   "cell_type": "markdown",
   "metadata": {},
   "source": [
    "## Parte 1: Carga y Preprocesamiento de Datos (10 Pts.)"
   ]
  },
  {
   "cell_type": "markdown",
   "metadata": {},
   "source": [
    "Para esta tarea, deberás utilizar el dataset [Mushroom Dataset (Binary Classification)](https://www.kaggle.com/datasets/prishasawhney/mushroom-dataset/data) que se puede encontrar en Kaggle."
   ]
  },
  {
   "cell_type": "markdown",
   "metadata": {},
   "source": [
    "### 1.1 Carga de Datos"
   ]
  },
  {
   "cell_type": "markdown",
   "metadata": {},
   "source": [
    "Descarga el dataset y cárgalo a continuación en un dataframe de pandas."
   ]
  },
  {
   "cell_type": "code",
   "execution_count": 2,
   "metadata": {},
   "outputs": [
    {
     "data": {
      "text/html": [
       "<div>\n",
       "<style scoped>\n",
       "    .dataframe tbody tr th:only-of-type {\n",
       "        vertical-align: middle;\n",
       "    }\n",
       "\n",
       "    .dataframe tbody tr th {\n",
       "        vertical-align: top;\n",
       "    }\n",
       "\n",
       "    .dataframe thead th {\n",
       "        text-align: right;\n",
       "    }\n",
       "</style>\n",
       "<table border=\"1\" class=\"dataframe\">\n",
       "  <thead>\n",
       "    <tr style=\"text-align: right;\">\n",
       "      <th></th>\n",
       "      <th>cap-diameter</th>\n",
       "      <th>cap-shape</th>\n",
       "      <th>gill-attachment</th>\n",
       "      <th>gill-color</th>\n",
       "      <th>stem-height</th>\n",
       "      <th>stem-width</th>\n",
       "      <th>stem-color</th>\n",
       "      <th>season</th>\n",
       "      <th>class</th>\n",
       "    </tr>\n",
       "  </thead>\n",
       "  <tbody>\n",
       "    <tr>\n",
       "      <th>0</th>\n",
       "      <td>1372</td>\n",
       "      <td>2</td>\n",
       "      <td>2</td>\n",
       "      <td>10</td>\n",
       "      <td>3.807467</td>\n",
       "      <td>1545</td>\n",
       "      <td>11</td>\n",
       "      <td>1.804273</td>\n",
       "      <td>1</td>\n",
       "    </tr>\n",
       "    <tr>\n",
       "      <th>1</th>\n",
       "      <td>1461</td>\n",
       "      <td>2</td>\n",
       "      <td>2</td>\n",
       "      <td>10</td>\n",
       "      <td>3.807467</td>\n",
       "      <td>1557</td>\n",
       "      <td>11</td>\n",
       "      <td>1.804273</td>\n",
       "      <td>1</td>\n",
       "    </tr>\n",
       "    <tr>\n",
       "      <th>2</th>\n",
       "      <td>1371</td>\n",
       "      <td>2</td>\n",
       "      <td>2</td>\n",
       "      <td>10</td>\n",
       "      <td>3.612496</td>\n",
       "      <td>1566</td>\n",
       "      <td>11</td>\n",
       "      <td>1.804273</td>\n",
       "      <td>1</td>\n",
       "    </tr>\n",
       "    <tr>\n",
       "      <th>3</th>\n",
       "      <td>1261</td>\n",
       "      <td>6</td>\n",
       "      <td>2</td>\n",
       "      <td>10</td>\n",
       "      <td>3.787572</td>\n",
       "      <td>1566</td>\n",
       "      <td>11</td>\n",
       "      <td>1.804273</td>\n",
       "      <td>1</td>\n",
       "    </tr>\n",
       "    <tr>\n",
       "      <th>4</th>\n",
       "      <td>1305</td>\n",
       "      <td>6</td>\n",
       "      <td>2</td>\n",
       "      <td>10</td>\n",
       "      <td>3.711971</td>\n",
       "      <td>1464</td>\n",
       "      <td>11</td>\n",
       "      <td>0.943195</td>\n",
       "      <td>1</td>\n",
       "    </tr>\n",
       "  </tbody>\n",
       "</table>\n",
       "</div>"
      ],
      "text/plain": [
       "   cap-diameter  cap-shape  gill-attachment  gill-color  stem-height  \\\n",
       "0          1372          2                2          10     3.807467   \n",
       "1          1461          2                2          10     3.807467   \n",
       "2          1371          2                2          10     3.612496   \n",
       "3          1261          6                2          10     3.787572   \n",
       "4          1305          6                2          10     3.711971   \n",
       "\n",
       "   stem-width  stem-color    season  class  \n",
       "0        1545          11  1.804273      1  \n",
       "1        1557          11  1.804273      1  \n",
       "2        1566          11  1.804273      1  \n",
       "3        1566          11  1.804273      1  \n",
       "4        1464          11  0.943195      1  "
      ]
     },
     "execution_count": 2,
     "metadata": {},
     "output_type": "execute_result"
    }
   ],
   "source": [
    "df = pd.read_csv('mushroom.csv')\n",
    "df.head()"
   ]
  },
  {
   "cell_type": "markdown",
   "metadata": {},
   "source": [
    "### 1.2 Descripción del dataset (2 Pts.)"
   ]
  },
  {
   "cell_type": "markdown",
   "metadata": {},
   "source": [
    "A continuación, presenta una descripción detallada del dataset. Se espera que investigues los datos, y expliques en que consisten las columnas. Explica también cuál es la variable objetivo."
   ]
  },
  {
   "cell_type": "markdown",
   "metadata": {},
   "source": [
    "Por lo que logré investigar, cap, gill y stem son partes del hongo, por lo que se tienen distintos datos de cada parte del hongo, en donde cap es la parte superior del hongo, y ahi se tiene el diametro en una unidad de medida que probablemente sea mm y la forma que son ints porque hay formas \"definidas\". Para el caso de gill, es la parte inferior de la tapa del hongo y es lo que conecta esta con el tronco, el cual tiene la forma en la que se conecta y el color. El stem es el tronco, el tiene el ancho, la altura y el color. Por ultimo, se tiene la epoca de que supongo que se refiere a la de crecimiento y la clase, la cual considero que es la funcion objetivo para prediccion. Además considerando el origen de los datos la clase es si es comestible o no (venenosa)."
   ]
  },
  {
   "cell_type": "markdown",
   "metadata": {},
   "source": [
    "### 1.3 Limpieza del dataset y Normalización (3 Pts.)"
   ]
  },
  {
   "cell_type": "markdown",
   "metadata": {},
   "source": [
    "Como podrás notar, el dataset entregado se encuentra limpio de antemano. En particular, se usaron las siguientes técnicas de limpieza:\n",
    "- Modal imputation\n",
    "- one-hot encoding\n",
    "- z-score normalization\n",
    "- feature selection\n",
    "\n",
    "Para este item debes:\n",
    "1. Explicar cada una de las técnicas de limpieza que se utilizaron (con palabras).\n",
    "2. Revisar en código si existen valores nulos, si hay columnas poco relevantes y si existe desbalance de clases."
   ]
  },
  {
   "cell_type": "markdown",
   "metadata": {},
   "source": [
    "MODAL IMPUTATION: Es una tecnica de imputacion de valores faltantes, la imputacion significa reemplazar los valores faltantes por un valor que se considera representativo. Es decir todos los valores que eran nulos no se eliminaron, sino que se reemplazaron por el valor mas comun de esa columna.\n",
    "https://es.wikipedia.org/wiki/Imputaci%C3%B3n_(estad%C3%ADstica)#:~:text=En%20estad%C3%ADstica%2C%20la%20imputaci%C3%B3n%20es,determinadas%20t%C3%A9cnicas%20estad%C3%ADsticas%20de%20an%C3%A1lisis.\n",
    "\n",
    "ONE-HOT ENCODING: Es una tecnica de codificacion para variables categoricas, en donde a cada columna categorica se le aplica el one hot encondig y por cada dato se le asigna un numero segun los datos de esa columna, por ejemplo en el caso de la clase, se tenia e y v, y estas se transformaron a 0 y 1 respectivamente. Lo mismo para el color y la forma.\n",
    "\n",
    "Z-SCORE NORMALIZATION: Esta tecnica de normalización se basa en la media y la desviacion estandar de los datos, tomando en consideracionla distribucion normal de los datos.\n",
    "https://www.turing.com/kb/data-normalization-with-python-scikit-learn-tips-tricks-for-data-science\n",
    "\n",
    "FEATURE SELECTION: Esta tencnia se basa en seleccionar las caracteristicas mas relevantes y menos redundantes de los datos, para poder mejorar el rendimiento del modelo y reducir el tiempo de entrenamiento.\n",
    "https://www.heavy.ai/technical-glossary/feature-selection#:~:text=Feature%20selection%20is%20the%20process,of%20datasets%20continue%20to%20grow."
   ]
  },
  {
   "cell_type": "code",
   "execution_count": 3,
   "metadata": {},
   "outputs": [
    {
     "data": {
      "text/html": [
       "<div>\n",
       "<style scoped>\n",
       "    .dataframe tbody tr th:only-of-type {\n",
       "        vertical-align: middle;\n",
       "    }\n",
       "\n",
       "    .dataframe tbody tr th {\n",
       "        vertical-align: top;\n",
       "    }\n",
       "\n",
       "    .dataframe thead th {\n",
       "        text-align: right;\n",
       "    }\n",
       "</style>\n",
       "<table border=\"1\" class=\"dataframe\">\n",
       "  <thead>\n",
       "    <tr style=\"text-align: right;\">\n",
       "      <th></th>\n",
       "      <th>cap-diameter</th>\n",
       "      <th>cap-shape</th>\n",
       "      <th>gill-attachment</th>\n",
       "      <th>gill-color</th>\n",
       "      <th>stem-height</th>\n",
       "      <th>stem-width</th>\n",
       "      <th>stem-color</th>\n",
       "      <th>season</th>\n",
       "      <th>class</th>\n",
       "    </tr>\n",
       "  </thead>\n",
       "  <tbody>\n",
       "    <tr>\n",
       "      <th>count</th>\n",
       "      <td>54035.000000</td>\n",
       "      <td>54035.000000</td>\n",
       "      <td>54035.000000</td>\n",
       "      <td>54035.000000</td>\n",
       "      <td>54035.000000</td>\n",
       "      <td>54035.000000</td>\n",
       "      <td>54035.000000</td>\n",
       "      <td>54035.000000</td>\n",
       "      <td>54035.000000</td>\n",
       "    </tr>\n",
       "    <tr>\n",
       "      <th>mean</th>\n",
       "      <td>567.257204</td>\n",
       "      <td>4.000315</td>\n",
       "      <td>2.142056</td>\n",
       "      <td>7.329509</td>\n",
       "      <td>0.759110</td>\n",
       "      <td>1051.081299</td>\n",
       "      <td>8.418062</td>\n",
       "      <td>0.952163</td>\n",
       "      <td>0.549181</td>\n",
       "    </tr>\n",
       "    <tr>\n",
       "      <th>std</th>\n",
       "      <td>359.883763</td>\n",
       "      <td>2.160505</td>\n",
       "      <td>2.228821</td>\n",
       "      <td>3.200266</td>\n",
       "      <td>0.650969</td>\n",
       "      <td>782.056076</td>\n",
       "      <td>3.262078</td>\n",
       "      <td>0.305594</td>\n",
       "      <td>0.497580</td>\n",
       "    </tr>\n",
       "    <tr>\n",
       "      <th>min</th>\n",
       "      <td>0.000000</td>\n",
       "      <td>0.000000</td>\n",
       "      <td>0.000000</td>\n",
       "      <td>0.000000</td>\n",
       "      <td>0.000426</td>\n",
       "      <td>0.000000</td>\n",
       "      <td>0.000000</td>\n",
       "      <td>0.027372</td>\n",
       "      <td>0.000000</td>\n",
       "    </tr>\n",
       "    <tr>\n",
       "      <th>25%</th>\n",
       "      <td>289.000000</td>\n",
       "      <td>2.000000</td>\n",
       "      <td>0.000000</td>\n",
       "      <td>5.000000</td>\n",
       "      <td>0.270997</td>\n",
       "      <td>421.000000</td>\n",
       "      <td>6.000000</td>\n",
       "      <td>0.888450</td>\n",
       "      <td>0.000000</td>\n",
       "    </tr>\n",
       "    <tr>\n",
       "      <th>50%</th>\n",
       "      <td>525.000000</td>\n",
       "      <td>5.000000</td>\n",
       "      <td>1.000000</td>\n",
       "      <td>8.000000</td>\n",
       "      <td>0.593295</td>\n",
       "      <td>923.000000</td>\n",
       "      <td>11.000000</td>\n",
       "      <td>0.943195</td>\n",
       "      <td>1.000000</td>\n",
       "    </tr>\n",
       "    <tr>\n",
       "      <th>75%</th>\n",
       "      <td>781.000000</td>\n",
       "      <td>6.000000</td>\n",
       "      <td>4.000000</td>\n",
       "      <td>10.000000</td>\n",
       "      <td>1.054858</td>\n",
       "      <td>1523.000000</td>\n",
       "      <td>11.000000</td>\n",
       "      <td>0.943195</td>\n",
       "      <td>1.000000</td>\n",
       "    </tr>\n",
       "    <tr>\n",
       "      <th>max</th>\n",
       "      <td>1891.000000</td>\n",
       "      <td>6.000000</td>\n",
       "      <td>6.000000</td>\n",
       "      <td>11.000000</td>\n",
       "      <td>3.835320</td>\n",
       "      <td>3569.000000</td>\n",
       "      <td>12.000000</td>\n",
       "      <td>1.804273</td>\n",
       "      <td>1.000000</td>\n",
       "    </tr>\n",
       "  </tbody>\n",
       "</table>\n",
       "</div>"
      ],
      "text/plain": [
       "       cap-diameter     cap-shape  gill-attachment    gill-color  \\\n",
       "count  54035.000000  54035.000000     54035.000000  54035.000000   \n",
       "mean     567.257204      4.000315         2.142056      7.329509   \n",
       "std      359.883763      2.160505         2.228821      3.200266   \n",
       "min        0.000000      0.000000         0.000000      0.000000   \n",
       "25%      289.000000      2.000000         0.000000      5.000000   \n",
       "50%      525.000000      5.000000         1.000000      8.000000   \n",
       "75%      781.000000      6.000000         4.000000     10.000000   \n",
       "max     1891.000000      6.000000         6.000000     11.000000   \n",
       "\n",
       "        stem-height    stem-width    stem-color        season         class  \n",
       "count  54035.000000  54035.000000  54035.000000  54035.000000  54035.000000  \n",
       "mean       0.759110   1051.081299      8.418062      0.952163      0.549181  \n",
       "std        0.650969    782.056076      3.262078      0.305594      0.497580  \n",
       "min        0.000426      0.000000      0.000000      0.027372      0.000000  \n",
       "25%        0.270997    421.000000      6.000000      0.888450      0.000000  \n",
       "50%        0.593295    923.000000     11.000000      0.943195      1.000000  \n",
       "75%        1.054858   1523.000000     11.000000      0.943195      1.000000  \n",
       "max        3.835320   3569.000000     12.000000      1.804273      1.000000  "
      ]
     },
     "execution_count": 3,
     "metadata": {},
     "output_type": "execute_result"
    }
   ],
   "source": [
    "df.describe()"
   ]
  },
  {
   "cell_type": "code",
   "execution_count": 4,
   "metadata": {},
   "outputs": [
    {
     "data": {
      "image/png": "[encoded data removed]",
      "text/plain": [
       "<Figure size 1000x1000 with 2 Axes>"
      ]
     },
     "metadata": {},
     "output_type": "display_data"
    }
   ],
   "source": [
    "correlation = df.corr()\n",
    "plt.figure(figsize=(10, 10))\n",
    "sns.heatmap(correlation, annot=True, cmap='coolwarm')\n",
    "plt.show()"
   ]
  },
  {
   "cell_type": "code",
   "execution_count": 5,
   "metadata": {},
   "outputs": [
    {
     "data": {
      "text/plain": [
       "cap-diameter       0\n",
       "cap-shape          0\n",
       "gill-attachment    0\n",
       "gill-color         0\n",
       "stem-height        0\n",
       "stem-width         0\n",
       "stem-color         0\n",
       "season             0\n",
       "class              0\n",
       "dtype: int64"
      ]
     },
     "execution_count": 5,
     "metadata": {},
     "output_type": "execute_result"
    }
   ],
   "source": [
    "df.isnull().sum()"
   ]
  },
  {
   "cell_type": "code",
   "execution_count": 6,
   "metadata": {},
   "outputs": [
    {
     "data": {
      "text/plain": [
       "class\n",
       "1    29675\n",
       "0    24360\n",
       "Name: count, dtype: int64"
      ]
     },
     "execution_count": 6,
     "metadata": {},
     "output_type": "execute_result"
    }
   ],
   "source": [
    "df['class'].value_counts()"
   ]
  },
  {
   "cell_type": "code",
   "execution_count": 7,
   "metadata": {},
   "outputs": [
    {
     "name": "stdout",
     "output_type": "stream",
     "text": [
      "Porcentaje de 0 en 'class': 45.08%\n",
      "Porcentaje de 1 en 'class': 54.92%\n"
     ]
    }
   ],
   "source": [
    "class_counts = df['class'].value_counts()\n",
    "percentage_0 = (class_counts[0] / len(df)) * 100\n",
    "percentage_1 = (class_counts[1] / len(df)) * 100\n",
    "\n",
    "print(f\"Porcentaje de 0 en 'class': {percentage_0:.2f}%\")\n",
    "print(f\"Porcentaje de 1 en 'class': {percentage_1:.2f}%\")"
   ]
  },
  {
   "cell_type": "markdown",
   "metadata": {},
   "source": [
    "Por el analisis anterior considero que la mayoría de las columnas son igual de relevantes, ya que se ven correlaciones similares entre todas las columnas, por lo que no eliminaria ninguna columna. Lo unico que quizas se podria eliminar es alguna de las columnas de dimensiones, ya que estas estan más correlacionadas entre si, por lo que podria ser \"redundante\" tenerlas o quizas entregan informacion similar. Pero no las eliminaria. No hay valores nulos, como se menciona antes, estas se \"eliminaron\" con la imputacion modal. Por ultimo, no hay un desbalance significativo entre las clases, ya que hay un 55% de venenosos y un 45% de comestibles."
   ]
  },
  {
   "cell_type": "markdown",
   "metadata": {},
   "source": [
    "### 1.4 Partición en conjuntos de entrenamiento y prueba (0 Pts.)"
   ]
  },
  {
   "cell_type": "markdown",
   "metadata": {},
   "source": [
    "Parte los datos en conjuntos de entrenamiento y prueba. Utiliza un 80% de los datos para entrenamiento y un 20% para prueba. Utiliza random_state=42."
   ]
  },
  {
   "cell_type": "code",
   "execution_count": 8,
   "metadata": {},
   "outputs": [],
   "source": [
    "X = df.drop('class', axis=1)\n",
    "y = df['class']"
   ]
  },
  {
   "cell_type": "code",
   "execution_count": 9,
   "metadata": {},
   "outputs": [],
   "source": [
    "X_train, X_test, y_train, y_test = train_test_split(X, y, test_size=0.2, random_state=42)"
   ]
  },
  {
   "cell_type": "markdown",
   "metadata": {},
   "source": [
    "## Parte 2: Redes Bayesianas (15 Pts)"
   ]
  },
  {
   "cell_type": "markdown",
   "metadata": {},
   "source": [
    "A continuación debes realizar un análisis de redes bayesianas sobre el dataset, con la finalidad de poder inferir la probabilidad de que un hongo sea venenoso o no, dadas las características que se presentan en el dataset."
   ]
  },
  {
   "cell_type": "markdown",
   "metadata": {},
   "source": [
    "### 2.1 Redes Bayesianas: Explicación Teórica (5 Pts.)"
   ]
  },
  {
   "cell_type": "markdown",
   "metadata": {},
   "source": [
    "Investiga sobre `Redes Bayesianas` y entrega una explicación de cómo funciona. `No es necesaria una explicación matemática`, el objetivo es que puedas tomar lo que aprendiste en clases o buscando en internet, y logres exponerlo de manera sintetizada para demostrar tu aprendizaje. Se espera que tu explicación contenga la respuesta a las siguientes preguntas: \n",
    "1. ¿Qué es? \n",
    "2. ¿Para qué sirve?\n",
    "3. ¿Cómo se construye?\n",
    "4. ¿Qué es un nodo y una arista en una red bayesiana?\n",
    "5. ¿Qué es un CPD?\n",
    "\n",
    "**:exclamation:IMPORTANTE:exclamation:** No utilices ChatGPT u otro modelo de lenguaje para responder esta pregunta. Será evaluado que cites al menos 1 recurso bibliográfico que hayas utilizado. Cualquier información que no tenga una referencia clara no se le dará puntaje."
   ]
  },
  {
   "cell_type": "markdown",
   "metadata": {},
   "source": [
    "Por lo que logre obtener de la clase, son redes entre variables segun la probabilidad condicional de una variable dada otra, generando relaciones entre estas. Sirven para modelar las relaciones y poder hacer suposiciones de un dato respecto la relacion que tiene con otros. Se construye a partir de las dependencias entre los datos, que son calculables si es que no se tienen y se genera una especie de grafo. Un nodo es una variable y una arista es la relacion entre dos nodos, es decir la dependencia de uno segun el otro, en consideracion a las probabilidades condicionales. Un CPD es la probabilidad condicional de una variable segun otra, es decir el \"grado de dependencia\" entre estos datos.\n",
    "\n",
    "Busqueda para informacion más precisa: \n",
    "1. ¿Qué es? \n",
    "\n",
    "Las redes bayesianas son un modelo probabilistico grafico que se basa en representar las dependecias condicionales entre las variables de un problema, generando un grafico como una red en donde cada nodo es una variable y las aristas son las relaciones.\n",
    "\n",
    "2. ¿Para qué sirve?\n",
    "\n",
    "Sirve para tener una manera grafica y sencilla de representar las dependencias de las variables aleatorias y poder hacer inferencias sobre estas, es decir, lograr predecir un valor de una variable la dependencia que tenga con otra.\n",
    "\n",
    "3. ¿Cómo se construye?\n",
    "\n",
    "Se construyen identificando las variables y teniendo o calculando las probabilidades condiciones entre cada una de ellas y luego con esta informacion, se puede enlazar la variable con las demás, segun la dependencia que tengan.\n",
    "\n",
    "4. ¿Qué es un nodo y una arista en una red bayesiana?\n",
    "\n",
    "Un nodo es una variable y una arista es la relacion entre dos nodos.\n",
    "\n",
    "5. ¿Qué es un CPD?\n",
    "Significa distribucion de probabilidad condicional, es decir la probabilidad de que al tener una variable, se de otra o si ocurre un evento ocurra otro.\n",
    "\n",
    "https://es.wikipedia.org/wiki/Red_bayesiana\n",
    "https://fastercapital.com/es/contenido/Red-bayesiana--comprension-de-las-redes-bayesianas--una-guia-completa.html\n",
    "https://economipedia.com/definiciones/probabilidad-condicional.html#:~:text=La%20probabilidad%20condicional%20es%20la,evento%2C%20al%20que%20denominamos%20B.&text=A%20diferencia%20de%20la%20probabilidad,afecta%20la%20probabilidad%20del%20otro."
   ]
  },
  {
   "cell_type": "markdown",
   "metadata": {},
   "source": [
    "### 2.2 Aprender la estructura de la red bayesiana (3 Pts.)"
   ]
  },
  {
   "cell_type": "markdown",
   "metadata": {},
   "source": [
    "Utiliza la librería pgmpy en Python para aplicar el algoritmo Hill Climb Search con el criterio de puntuación BIC y encontrar la estructura óptima de una red bayesiana. Puedes guiarte de las actividades vistas en clases."
   ]
  },
  {
   "cell_type": "code",
   "execution_count": 10,
   "metadata": {},
   "outputs": [],
   "source": [
    "data_train = pd.concat([X_train, y_train], axis=1)"
   ]
  },
  {
   "cell_type": "code",
   "execution_count": 11,
   "metadata": {},
   "outputs": [
    {
     "data": {
      "application/vnd.jupyter.widget-view+json": {
       "model_id": "b7248ad70f7a4942aea927a205091aae",
       "version_major": 2,
       "version_minor": 0
      },
      "text/plain": [
       "  0%|          | 0/1000000 [00:00<?, ?it/s]"
      ]
     },
     "metadata": {},
     "output_type": "display_data"
    },
    {
     "name": "stdout",
     "output_type": "stream",
     "text": [
      "[('gill-attachment', 'cap-shape'), ('gill-attachment', 'stem-color'), ('gill-attachment', 'season'), ('gill-color', 'gill-attachment'), ('gill-color', 'stem-color'), ('gill-color', 'class'), ('stem-color', 'cap-shape'), ('stem-color', 'season'), ('class', 'gill-attachment'), ('class', 'stem-color'), ('class', 'cap-shape'), ('class', 'season')]\n"
     ]
    }
   ],
   "source": [
    "hc = HillClimbSearch(data_train)\n",
    "best_model = hc.estimate(scoring_method=BicScore(data_train))\n",
    "print(best_model.edges())"
   ]
  },
  {
   "cell_type": "markdown",
   "metadata": {},
   "source": [
    "### 2.3 Encontrar la estructura óptima (2 Pts.)"
   ]
  },
  {
   "cell_type": "markdown",
   "metadata": {},
   "source": [
    "En esta sección, debes entrenar la red bayesiana con los datos de entrenamiento usando la estructura óptima encontrada en la sección anterior. Luego, debes imprimir las probabilidades condicionales de la red bayesiana."
   ]
  },
  {
   "cell_type": "code",
   "execution_count": 12,
   "metadata": {},
   "outputs": [
    {
     "name": "stdout",
     "output_type": "stream",
     "text": [
      "+--------------------+-----+-----------------------+\n",
      "| class              | ... | class(1)              |\n",
      "+--------------------+-----+-----------------------+\n",
      "| gill-color         | ... | gill-color(11)        |\n",
      "+--------------------+-----+-----------------------+\n",
      "| gill-attachment(0) | ... | 0.3353917477693242    |\n",
      "+--------------------+-----+-----------------------+\n",
      "| gill-attachment(1) | ... | 0.22963070136418698   |\n",
      "+--------------------+-----+-----------------------+\n",
      "| gill-attachment(2) | ... | 0.027676233778827164  |\n",
      "+--------------------+-----+-----------------------+\n",
      "| gill-attachment(3) | ... | 7.695966236256928e-06 |\n",
      "+--------------------+-----+-----------------------+\n",
      "| gill-attachment(4) | ... | 0.039829703659124104  |\n",
      "+--------------------+-----+-----------------------+\n",
      "| gill-attachment(5) | ... | 0.1825683286362286    |\n",
      "+--------------------+-----+-----------------------+\n",
      "| gill-attachment(6) | ... | 0.1848955888260727    |\n",
      "+--------------------+-----+-----------------------+\n",
      "+-----------------+-----+-----------------------+\n",
      "| class           | ... | class(1)              |\n",
      "+-----------------+-----+-----------------------+\n",
      "| gill-attachment | ... | gill-attachment(6)    |\n",
      "+-----------------+-----+-----------------------+\n",
      "| stem-color      | ... | stem-color(12)        |\n",
      "+-----------------+-----+-----------------------+\n",
      "| cap-shape(0)    | ... | 9.366084658166007e-06 |\n",
      "+-----------------+-----+-----------------------+\n",
      "| cap-shape(1)    | ... | 9.366084658166007e-06 |\n",
      "+-----------------+-----+-----------------------+\n",
      "| cap-shape(2)    | ... | 0.5512858697627196    |\n",
      "+-----------------+-----+-----------------------+\n",
      "| cap-shape(3)    | ... | 9.366084658166007e-06 |\n",
      "+-----------------+-----+-----------------------+\n",
      "| cap-shape(4)    | ... | 9.366084658166007e-06 |\n",
      "+-----------------+-----+-----------------------+\n",
      "| cap-shape(5)    | ... | 0.23865720317472805   |\n",
      "+-----------------+-----+-----------------------+\n",
      "| cap-shape(6)    | ... | 0.21001946272391966   |\n",
      "+-----------------+-----+-----------------------+\n",
      "+-----------------+-----+------------------------+\n",
      "| class           | ... | class(1)               |\n",
      "+-----------------+-----+------------------------+\n",
      "| gill-attachment | ... | gill-attachment(6)     |\n",
      "+-----------------+-----+------------------------+\n",
      "| gill-color      | ... | gill-color(11)         |\n",
      "+-----------------+-----+------------------------+\n",
      "| stem-color(0)   | ... | 3.2017930040822863e-06 |\n",
      "+-----------------+-----+------------------------+\n",
      "| stem-color(1)   | ... | 3.2017930040822863e-06 |\n",
      "+-----------------+-----+------------------------+\n",
      "| stem-color(2)   | ... | 3.2017930040822863e-06 |\n",
      "+-----------------+-----+------------------------+\n",
      "| stem-color(3)   | ... | 3.2017930040822863e-06 |\n",
      "+-----------------+-----+------------------------+\n",
      "| stem-color(4)   | ... | 3.2017930040822863e-06 |\n",
      "+-----------------+-----+------------------------+\n",
      "| stem-color(5)   | ... | 3.2017930040822863e-06 |\n",
      "+-----------------+-----+------------------------+\n",
      "| stem-color(6)   | ... | 0.23915408628832144    |\n",
      "+-----------------+-----+------------------------+\n",
      "| stem-color(7)   | ... | 3.2017930040822863e-06 |\n",
      "+-----------------+-----+------------------------+\n",
      "| stem-color(8)   | ... | 3.2017930040822863e-06 |\n",
      "+-----------------+-----+------------------------+\n",
      "| stem-color(9)   | ... | 3.2017930040822863e-06 |\n",
      "+-----------------+-----+------------------------+\n",
      "| stem-color(10)  | ... | 3.2017930040822863e-06 |\n",
      "+-----------------+-----+------------------------+\n",
      "| stem-color(11)  | ... | 0.3076827023132954     |\n",
      "+-----------------+-----+------------------------+\n",
      "| stem-color(12)  | ... | 0.4531311934683423     |\n",
      "+-----------------+-----+------------------------+\n",
      "+----------------------------+-----+------------------------+\n",
      "| class                      | ... | class(1)               |\n",
      "+----------------------------+-----+------------------------+\n",
      "| gill-attachment            | ... | gill-attachment(6)     |\n",
      "+----------------------------+-----+------------------------+\n",
      "| stem-color                 | ... | stem-color(12)         |\n",
      "+----------------------------+-----+------------------------+\n",
      "| season(0.0273721330556057) | ... | 1.6390648151790513e-05 |\n",
      "+----------------------------+-----+------------------------+\n",
      "| season(0.8884502877862838) | ... | 0.1599104414984986     |\n",
      "+----------------------------+-----+------------------------+\n",
      "| season(0.9431945538974952) | ... | 0.8400567772051978     |\n",
      "+----------------------------+-----+------------------------+\n",
      "| season(1.804272708628173)  | ... | 1.6390648151790513e-05 |\n",
      "+----------------------------+-----+------------------------+\n",
      "+----------------+-----------+\n",
      "| gill-color(0)  | 0.0175425 |\n",
      "+----------------+-----------+\n",
      "| gill-color(1)  | 0.019925  |\n",
      "+----------------+-----------+\n",
      "| gill-color(2)  | 0.0560085 |\n",
      "+----------------+-----------+\n",
      "| gill-color(3)  | 0.0717604 |\n",
      "+----------------+-----------+\n",
      "| gill-color(4)  | 0.03304   |\n",
      "+----------------+-----------+\n",
      "| gill-color(5)  | 0.150936  |\n",
      "+----------------+-----------+\n",
      "| gill-color(6)  | 0.0507579 |\n",
      "+----------------+-----------+\n",
      "| gill-color(7)  | 0.100095  |\n",
      "+----------------+-----------+\n",
      "| gill-color(8)  | 0.0232095 |\n",
      "+----------------+-----------+\n",
      "| gill-color(9)  | 0.0190229 |\n",
      "+----------------+-----------+\n",
      "| gill-color(10) | 0.306234  |\n",
      "+----------------+-----------+\n",
      "| gill-color(11) | 0.151468  |\n",
      "+----------------+-----------+\n",
      "+------------+---------------------+-----+---------------------+\n",
      "| gill-color | gill-color(0)       | ... | gill-color(11)      |\n",
      "+------------+---------------------+-----+---------------------+\n",
      "| class(0)   | 0.7412921656960774  | ... | 0.40944375866939847 |\n",
      "+------------+---------------------+-----+---------------------+\n",
      "| class(1)   | 0.25870783430392263 | ... | 0.5905562413306016  |\n",
      "+------------+---------------------+-----+---------------------+\n"
     ]
    }
   ],
   "source": [
    "model = BayesianNetwork(best_model.edges())\n",
    "model.fit(data_train, estimator=BayesianEstimator, prior_type=\"BDeu\")\n",
    "for cpd in model.get_cpds():\n",
    "    print(cpd)"
   ]
  },
  {
   "cell_type": "markdown",
   "metadata": {},
   "source": [
    "### 2.4 Inferencia sobre los datos (5 pts)"
   ]
  },
  {
   "cell_type": "markdown",
   "metadata": {},
   "source": [
    "Finalmente, debes realizar inferencia sobre la red bayesiana. Para esto, se te pide que calcules la probabilidad de que los siguientes hongos sean venenosos o no, dadas sus características:\n",
    "\n",
    "- Hongo 1: 'gill-color': 7, 'stem-color': 3, 'cap-shape': 1\n",
    "- Hongo 2: 'stem-color': 2, 'cap-shape': 3\n",
    "- Hongo 3: 'gill-attachment': 2, 'gill-color': 3"
   ]
  },
  {
   "cell_type": "code",
   "execution_count": 13,
   "metadata": {},
   "outputs": [
    {
     "name": "stdout",
     "output_type": "stream",
     "text": [
      "Hongos 1:\n"
     ]
    },
    {
     "data": {
      "application/vnd.jupyter.widget-view+json": {
       "model_id": "d09b77870de548a3bed2d92329e1d2e8",
       "version_major": 2,
       "version_minor": 0
      },
      "text/plain": [
       "  0%|          | 0/1 [00:00<?, ?it/s]"
      ]
     },
     "metadata": {},
     "output_type": "display_data"
    },
    {
     "data": {
      "application/vnd.jupyter.widget-view+json": {
       "model_id": "2f0342d9e14e47078209340f36fbfeee",
       "version_major": 2,
       "version_minor": 0
      },
      "text/plain": [
       "  0%|          | 0/1 [00:00<?, ?it/s]"
      ]
     },
     "metadata": {},
     "output_type": "display_data"
    },
    {
     "name": "stdout",
     "output_type": "stream",
     "text": [
      "{'class': 0}\n",
      "Hongos 2:\n"
     ]
    },
    {
     "data": {
      "application/vnd.jupyter.widget-view+json": {
       "model_id": "822d70466f7a4dfaaef3fa816e768426",
       "version_major": 2,
       "version_minor": 0
      },
      "text/plain": [
       "  0%|          | 0/2 [00:00<?, ?it/s]"
      ]
     },
     "metadata": {},
     "output_type": "display_data"
    },
    {
     "data": {
      "application/vnd.jupyter.widget-view+json": {
       "model_id": "a6f9470d1d04459792dc10f98922a301",
       "version_major": 2,
       "version_minor": 0
      },
      "text/plain": [
       "  0%|          | 0/2 [00:00<?, ?it/s]"
      ]
     },
     "metadata": {},
     "output_type": "display_data"
    },
    {
     "name": "stdout",
     "output_type": "stream",
     "text": [
      "{'class': 1}\n",
      "Hongos 3:\n"
     ]
    },
    {
     "data": {
      "application/vnd.jupyter.widget-view+json": {
       "model_id": "991f1d65d68d47598e7edec8b3ea72b8",
       "version_major": 2,
       "version_minor": 0
      },
      "text/plain": [
       "0it [00:00, ?it/s]"
      ]
     },
     "metadata": {},
     "output_type": "display_data"
    },
    {
     "data": {
      "application/vnd.jupyter.widget-view+json": {
       "model_id": "fca98639d29e403cb244f54835b5838e",
       "version_major": 2,
       "version_minor": 0
      },
      "text/plain": [
       "0it [00:00, ?it/s]"
      ]
     },
     "metadata": {},
     "output_type": "display_data"
    },
    {
     "name": "stdout",
     "output_type": "stream",
     "text": [
      "{'class': 1}\n"
     ]
    }
   ],
   "source": [
    "infer = VariableElimination(model)\n",
    "\n",
    "hongo_1 = {'gill-color': 7, 'stem-color': 3, 'cap-shape': 1}\n",
    "hongo_2 = {'stem-color': 2, 'cap-shape': 3}\n",
    "hongo_3 = {'gill-attachment': 2, 'gill-color': 3}\n",
    "\n",
    "print(\"Hongos 1:\")\n",
    "print(infer.map_query(variables=['class'], evidence=hongo_1))\n",
    "\n",
    "print(\"Hongos 2:\")\n",
    "print(infer.map_query(variables=['class'], evidence=hongo_2))\n",
    "\n",
    "print(\"Hongos 3:\")\n",
    "print(infer.map_query(variables=['class'], evidence=hongo_3))"
   ]
  },
  {
   "cell_type": "markdown",
   "metadata": {},
   "source": [
    "## Parte 3: Perceptron y MLP (15 Pts.)"
   ]
  },
  {
   "cell_type": "markdown",
   "metadata": {},
   "source": [
    "### 3.1 Perceptron: Explicación teórica (2.5 Pts)"
   ]
  },
  {
   "cell_type": "markdown",
   "metadata": {},
   "source": [
    "Investiga sobre `Perceptron` y entrega una explicación de cómo funciona. `No es necesaria una explicación matemática`, el objetivo es que puedas tomar lo que aprendiste en clases o buscando en internet, y logres exponerlo de manera sintetizada para demostrar tu aprendizaje. Se espera que tu explicación contenga la respuesta a las siguientes preguntas: \n",
    "1. ¿Qué es? \n",
    "2. ¿Para qué sirve? \n",
    "3. ¿Cómo funciona? \n",
    "4. ¿Cuáles son sus ventajas y desventajas? \n",
    "5. ¿En qué situaciones se puede utilizar? \n",
    "6. ¿Qué tipo de problemas puede resolver? \n",
    "7. ¿Qué son los pesos y función de activación? \n",
    "8. ¿Cuáles son las limitaciones del modelo?\n",
    "\n",
    "**:exclamation:IMPORTANTE:exclamation:** No utilices ChatGPT u otro modelo de lenguaje para responder esta pregunta. Será evaluado que cites al menos 1 recurso bibliográfico que hayas utilizado. Cualquier información que no tenga una referencia clara no se le dará puntaje."
   ]
  },
  {
   "cell_type": "markdown",
   "metadata": {},
   "source": [
    "1. ¿Qué es?: Es una red neuronal simple que se basa en tener solo una capa y un nodo de salida, es una sola neurona artificial.\n",
    "2. ¿Para qué sirve?: Sirve para encontrar patrones, caracteristicas o tendencias en los datos que ingresan, principalmente clasificar datos.\n",
    "3. ¿Cómo funciona?: Funciona en base a una funcion matematica, en donde a cada entrada se le asigna (multiplica) un peso, en donde el resultado puede ser negativo o positivo, si es que el resultado es positivo se activa la neurona con una funcion de activacion, ademas solo se activa si el resultado es mayor a un umbral determinado por la funcion de activacion. Sale un resultado y se debe comparar con uno conocido, y si hay un error se ajustan los pesos. \n",
    "4. ¿Cuáles son sus ventajas y desventajas?: Entre las ventajas estan que es simple y rapido, ademas de flexible, pues en comparacion a una red neuronal compleja es mas facil de entender y ajustar. Tiene un alta capacidad de aprendizaje. Entre sus desventajas se destaca, que se necesita un gran numero de datos para poder aprender y de calidad, pueden ser dificiles de interpretar, pueden sobreajustar facilmente y tiene una gran cantidad de hiperparametros que ajustar.\n",
    "5. ¿En qué situaciones se puede utilizar?: Se suele utilizar para problemas de clasificacion simple, pues puede asociar muy bien patrones, tambien sirve para la segmentacion y clasificacion de imagenes, comprension de datos entre otros.\n",
    "6. ¿Qué tipo de problemas puede resolver?: Como se menciona anteriomente, puede resolver problemas de clasificacion simple, principalmente binaria y algunos problemas de regresion lineal. Usualmente las relaciones deben ser relativamente simples. \n",
    "7. ¿Qué son los pesos y función de activación?: Los pesos son valores numericos que como se menciono antes se multiplican con las entradas y determinan la importancia de cada una de estas. La funcion de activacion, tambien como se menciono anteriormente es una funcion matematica que aplica la suma de las entradas multiplicadas por los pesos y de acuerdo a su valor determina la salida de la neurona.\n",
    "8. ¿Cuáles son las limitaciones del modelo?: En general no logra extrapolar muy bien, depende mucho del entrenamiento y de la cantidad de datos. Además para problemas mas complejos no es muy util, ya que si los datos no son linealmente separables, no converge.\n",
    "\n",
    "https://datascientest.com/es/perceptron-que-es-y-para-que-sirve\n",
    "\n",
    "https://interactivechaos.com/es/manual/tutorial-de-machine-learning/ventajas-y-desventajas-0\n",
    "\n",
    "https://es.wikipedia.org/wiki/Perceptr%C3%B3n\n",
    "\n",
    "Clases y conocimientos anteriores aprendidos en IA"
   ]
  },
  {
   "cell_type": "markdown",
   "metadata": {},
   "source": [
    "### 3.2 Multi-Layer Perceptron: Explicación teórica (2.5 Pts)"
   ]
  },
  {
   "cell_type": "markdown",
   "metadata": {},
   "source": [
    "De forma similar a 2.1, investiga sobre `Multi-Layer Perceptron` y entrega una explicación de cómo funciona. `No es necesaria una explicación matemática`, el objetivo es que puedas tomar lo que aprendiste en clases o buscando en internet, y logres exponerlo de manera sintetizada para demostrar tu aprendizaje. Se espera que tu explicación contenga la respuesta a las siguientes preguntas:\n",
    "1. ¿Qué es?\n",
    "2. ¿Para qué sirve?\n",
    "3. ¿Cómo funciona?\n",
    "4. ¿Cuáles son las diferencias con el Perceptron?\n",
    "5. ¿Cuándo es mejor utilizar un MLP en vez de un Perceptron?\n",
    "\n",
    "**:exclamation:IMPORTANTE:exclamation:** No utilices ChatGPT u otro modelo de lenguaje para responder esta pregunta. Será evaluado que cites al menos 1 recurso bibliográfico que hayas utilizado. Cualquier información que no tenga una referencia clara no se le dará puntaje."
   ]
  },
  {
   "cell_type": "markdown",
   "metadata": {},
   "source": [
    "1. ¿Qué es?: Es una red neuronal que se basa en tener más de una capa de neuronas, es decir de capas ocultas, pero sigue siendo una red neuronal simple, pues tiene una sola neurona de salida.\n",
    "2. ¿Para qué sirve?: Tambien sirve para problemas de clasificacion y regresion, pero es mejor que un perceptron simple pues hace un mayor analisis, debido a que tiene más capas, entonces puede encontrar patrones más complejos.\n",
    "3. ¿Cómo funciona?: Hace basicamente lo mismo que un perceptron, como se explico anteriormente, pero como aqui se tienen más capas ese proceso se repite para cada capa y se hace el backpropagation para ajustar los pesos de cada una, entonces uno tiene un proceso más complejo y reiterativo.\n",
    "4. ¿Cuáles son las diferencias con el Perceptron?: La principal diferencia es que tiene más de una capa, tambien que puede tener más de una funcion de activacion y además estas pueden ser no lineales.\n",
    "5. ¿Cuándo es mejor utilizar un MLP en vez de un Perceptron?: Para problemas más complejos, en donde los datos no son linealmente separables, por ejemplo para clasificacion multiclase, regresion no lineal, etc.\n",
    "\n",
    "https://es.wikipedia.org/wiki/Perceptr%C3%B3n_multicapa\n",
    "\n",
    "https://juansensio.com/blog/023_mlp_backprop\n",
    "\n",
    "Clases y conocimientos anteriores aprendidos en IA"
   ]
  },
  {
   "cell_type": "markdown",
   "metadata": {},
   "source": [
    "### 3.3 Crear y Entrenar MLP (4 Pts)"
   ]
  },
  {
   "cell_type": "markdown",
   "metadata": {},
   "source": [
    "Entrene un clasificador de MLP con los datos de `entrenamiento`. Tienes libertad para modificar los hiperparámetros, cantidad de capas, neuronas, etc. Pero toda decisión debe ser `justificada`. Recuerda que el objetivo es obtener el mejor modelo posible. Para justificar tus decisiones puedes experimentar, buscar documentación o lo que estimes conveniente.\n",
    "\n",
    "**Importante:** No se evalúa que el modelo sea el mejor, si no que se justifiquen las decisiones tomadas. Es decir, no sirve de nada tener un porcentaje de acierto alto si no se justifica por qué se llegó a ese resultado. En esta parte, el código tiene menor relevancia. Lo importante es la justificación."
   ]
  },
  {
   "cell_type": "code",
   "execution_count": 14,
   "metadata": {},
   "outputs": [
    {
     "name": "stdout",
     "output_type": "stream",
     "text": [
      "Epoch 1/100\n",
      "\u001b[1m1081/1081\u001b[0m \u001b[32m━━━━━━━━━━━━━━━━━━━━\u001b[0m\u001b[37m\u001b[0m \u001b[1m2s\u001b[0m 754us/step - accuracy: 0.5628 - loss: 1.4131 - val_accuracy: 0.5508 - val_loss: 0.9058\n",
      "Epoch 2/100\n",
      "\u001b[1m1081/1081\u001b[0m \u001b[32m━━━━━━━━━━━━━━━━━━━━\u001b[0m\u001b[37m\u001b[0m \u001b[1m1s\u001b[0m 649us/step - accuracy: 0.5966 - loss: 0.9867 - val_accuracy: 0.6364 - val_loss: 0.6384\n",
      "Epoch 3/100\n",
      "\u001b[1m1081/1081\u001b[0m \u001b[32m━━━━━━━━━━━━━━━━━━━━\u001b[0m\u001b[37m\u001b[0m \u001b[1m1s\u001b[0m 659us/step - accuracy: 0.6003 - loss: 0.8775 - val_accuracy: 0.6508 - val_loss: 0.6796\n",
      "Epoch 4/100\n",
      "\u001b[1m1081/1081\u001b[0m \u001b[32m━━━━━━━━━━━━━━━━━━━━\u001b[0m\u001b[37m\u001b[0m \u001b[1m1s\u001b[0m 660us/step - accuracy: 0.6216 - loss: 0.8197 - val_accuracy: 0.6631 - val_loss: 0.6150\n",
      "Epoch 5/100\n",
      "\u001b[1m1081/1081\u001b[0m \u001b[32m━━━━━━━━━━━━━━━━━━━━\u001b[0m\u001b[37m\u001b[0m \u001b[1m1s\u001b[0m 646us/step - accuracy: 0.6338 - loss: 0.7597 - val_accuracy: 0.6203 - val_loss: 0.8603\n",
      "Epoch 6/100\n",
      "\u001b[1m1081/1081\u001b[0m \u001b[32m━━━━━━━━━━━━━━━━━━━━\u001b[0m\u001b[37m\u001b[0m \u001b[1m1s\u001b[0m 661us/step - accuracy: 0.6433 - loss: 0.7281 - val_accuracy: 0.5920 - val_loss: 0.7676\n",
      "Epoch 7/100\n",
      "\u001b[1m1081/1081\u001b[0m \u001b[32m━━━━━━━━━━━━━━━━━━━━\u001b[0m\u001b[37m\u001b[0m \u001b[1m1s\u001b[0m 651us/step - accuracy: 0.6437 - loss: 0.6974 - val_accuracy: 0.6300 - val_loss: 0.6224\n",
      "Epoch 8/100\n",
      "\u001b[1m1081/1081\u001b[0m \u001b[32m━━━━━━━━━━━━━━━━━━━━\u001b[0m\u001b[37m\u001b[0m \u001b[1m1s\u001b[0m 653us/step - accuracy: 0.6518 - loss: 0.6457 - val_accuracy: 0.6863 - val_loss: 0.5992\n",
      "Epoch 9/100\n",
      "\u001b[1m1081/1081\u001b[0m \u001b[32m━━━━━━━━━━━━━━━━━━━━\u001b[0m\u001b[37m\u001b[0m \u001b[1m1s\u001b[0m 654us/step - accuracy: 0.6540 - loss: 0.6315 - val_accuracy: 0.6731 - val_loss: 0.5817\n",
      "Epoch 10/100\n",
      "\u001b[1m1081/1081\u001b[0m \u001b[32m━━━━━━━━━━━━━━━━━━━━\u001b[0m\u001b[37m\u001b[0m \u001b[1m1s\u001b[0m 655us/step - accuracy: 0.6627 - loss: 0.6059 - val_accuracy: 0.6731 - val_loss: 0.5843\n",
      "Epoch 11/100\n",
      "\u001b[1m1081/1081\u001b[0m \u001b[32m━━━━━━━━━━━━━━━━━━━━\u001b[0m\u001b[37m\u001b[0m \u001b[1m1s\u001b[0m 668us/step - accuracy: 0.6706 - loss: 0.5862 - val_accuracy: 0.6950 - val_loss: 0.5577\n",
      "Epoch 12/100\n",
      "\u001b[1m1081/1081\u001b[0m \u001b[32m━━━━━━━━━━━━━━━━━━━━\u001b[0m\u001b[37m\u001b[0m \u001b[1m1s\u001b[0m 666us/step - accuracy: 0.6761 - loss: 0.5741 - val_accuracy: 0.6944 - val_loss: 0.5507\n",
      "Epoch 13/100\n",
      "\u001b[1m1081/1081\u001b[0m \u001b[32m━━━━━━━━━━━━━━━━━━━━\u001b[0m\u001b[37m\u001b[0m \u001b[1m1s\u001b[0m 646us/step - accuracy: 0.6772 - loss: 0.5616 - val_accuracy: 0.6809 - val_loss: 0.5666\n",
      "Epoch 14/100\n",
      "\u001b[1m1081/1081\u001b[0m \u001b[32m━━━━━━━━━━━━━━━━━━━━\u001b[0m\u001b[37m\u001b[0m \u001b[1m1s\u001b[0m 661us/step - accuracy: 0.6905 - loss: 0.5512 - val_accuracy: 0.7092 - val_loss: 0.5263\n",
      "Epoch 15/100\n",
      "\u001b[1m1081/1081\u001b[0m \u001b[32m━━━━━━━━━━━━━━━━━━━━\u001b[0m\u001b[37m\u001b[0m \u001b[1m1s\u001b[0m 679us/step - accuracy: 0.6945 - loss: 0.5462 - val_accuracy: 0.7083 - val_loss: 0.5243\n",
      "Epoch 16/100\n",
      "\u001b[1m1081/1081\u001b[0m \u001b[32m━━━━━━━━━━━━━━━━━━━━\u001b[0m\u001b[37m\u001b[0m \u001b[1m1s\u001b[0m 685us/step - accuracy: 0.7022 - loss: 0.5402 - val_accuracy: 0.6787 - val_loss: 0.5683\n",
      "Epoch 17/100\n",
      "\u001b[1m1081/1081\u001b[0m \u001b[32m━━━━━━━━━━━━━━━━━━━━\u001b[0m\u001b[37m\u001b[0m \u001b[1m1s\u001b[0m 655us/step - accuracy: 0.6992 - loss: 0.5334 - val_accuracy: 0.6834 - val_loss: 0.5637\n",
      "Epoch 18/100\n",
      "\u001b[1m1081/1081\u001b[0m \u001b[32m━━━━━━━━━━━━━━━━━━━━\u001b[0m\u001b[37m\u001b[0m \u001b[1m1s\u001b[0m 655us/step - accuracy: 0.7079 - loss: 0.5238 - val_accuracy: 0.7091 - val_loss: 0.5182\n",
      "Epoch 19/100\n",
      "\u001b[1m1081/1081\u001b[0m \u001b[32m━━━━━━━━━━━━━━━━━━━━\u001b[0m\u001b[37m\u001b[0m \u001b[1m1s\u001b[0m 645us/step - accuracy: 0.7083 - loss: 0.5176 - val_accuracy: 0.7077 - val_loss: 0.5128\n",
      "Epoch 20/100\n",
      "\u001b[1m1081/1081\u001b[0m \u001b[32m━━━━━━━━━━━━━━━━━━━━\u001b[0m\u001b[37m\u001b[0m \u001b[1m1s\u001b[0m 672us/step - accuracy: 0.7241 - loss: 0.5014 - val_accuracy: 0.7068 - val_loss: 0.5205\n",
      "Epoch 21/100\n",
      "\u001b[1m1081/1081\u001b[0m \u001b[32m━━━━━━━━━━━━━━━━━━━━\u001b[0m\u001b[37m\u001b[0m \u001b[1m1s\u001b[0m 665us/step - accuracy: 0.7251 - loss: 0.4917 - val_accuracy: 0.7274 - val_loss: 0.4844\n",
      "Epoch 22/100\n",
      "\u001b[1m1081/1081\u001b[0m \u001b[32m━━━━━━━━━━━━━━━━━━━━\u001b[0m\u001b[37m\u001b[0m \u001b[1m1s\u001b[0m 653us/step - accuracy: 0.7256 - loss: 0.4891 - val_accuracy: 0.7343 - val_loss: 0.4815\n",
      "Epoch 23/100\n",
      "\u001b[1m1081/1081\u001b[0m \u001b[32m━━━━━━━━━━━━━━━━━━━━\u001b[0m\u001b[37m\u001b[0m \u001b[1m1s\u001b[0m 646us/step - accuracy: 0.7249 - loss: 0.4870 - val_accuracy: 0.7316 - val_loss: 0.5075\n",
      "Epoch 24/100\n",
      "\u001b[1m1081/1081\u001b[0m \u001b[32m━━━━━━━━━━━━━━━━━━━━\u001b[0m\u001b[37m\u001b[0m \u001b[1m1s\u001b[0m 648us/step - accuracy: 0.7361 - loss: 0.4784 - val_accuracy: 0.7251 - val_loss: 0.4822\n",
      "Epoch 25/100\n",
      "\u001b[1m1081/1081\u001b[0m \u001b[32m━━━━━━━━━━━━━━━━━━━━\u001b[0m\u001b[37m\u001b[0m \u001b[1m1s\u001b[0m 659us/step - accuracy: 0.7445 - loss: 0.4676 - val_accuracy: 0.7445 - val_loss: 0.4633\n",
      "Epoch 26/100\n",
      "\u001b[1m1081/1081\u001b[0m \u001b[32m━━━━━━━━━━━━━━━━━━━━\u001b[0m\u001b[37m\u001b[0m \u001b[1m1s\u001b[0m 647us/step - accuracy: 0.7472 - loss: 0.4590 - val_accuracy: 0.7483 - val_loss: 0.4555\n",
      "Epoch 27/100\n",
      "\u001b[1m1081/1081\u001b[0m \u001b[32m━━━━━━━━━━━━━━━━━━━━\u001b[0m\u001b[37m\u001b[0m \u001b[1m1s\u001b[0m 653us/step - accuracy: 0.7507 - loss: 0.4581 - val_accuracy: 0.7564 - val_loss: 0.4588\n",
      "Epoch 28/100\n",
      "\u001b[1m1081/1081\u001b[0m \u001b[32m━━━━━━━━━━━━━━━━━━━━\u001b[0m\u001b[37m\u001b[0m \u001b[1m1s\u001b[0m 644us/step - accuracy: 0.7573 - loss: 0.4499 - val_accuracy: 0.7577 - val_loss: 0.4435\n",
      "Epoch 29/100\n",
      "\u001b[1m1081/1081\u001b[0m \u001b[32m━━━━━━━━━━━━━━━━━━━━\u001b[0m\u001b[37m\u001b[0m \u001b[1m1s\u001b[0m 651us/step - accuracy: 0.7646 - loss: 0.4367 - val_accuracy: 0.7668 - val_loss: 0.4360\n",
      "Epoch 30/100\n",
      "\u001b[1m1081/1081\u001b[0m \u001b[32m━━━━━━━━━━━━━━━━━━━━\u001b[0m\u001b[37m\u001b[0m \u001b[1m1s\u001b[0m 647us/step - accuracy: 0.7645 - loss: 0.4339 - val_accuracy: 0.7702 - val_loss: 0.4342\n",
      "Epoch 31/100\n",
      "\u001b[1m1081/1081\u001b[0m \u001b[32m━━━━━━━━━━━━━━━━━━━━\u001b[0m\u001b[37m\u001b[0m \u001b[1m1s\u001b[0m 649us/step - accuracy: 0.7626 - loss: 0.4386 - val_accuracy: 0.7505 - val_loss: 0.4339\n",
      "Epoch 32/100\n",
      "\u001b[1m1081/1081\u001b[0m \u001b[32m━━━━━━━━━━━━━━━━━━━━\u001b[0m\u001b[37m\u001b[0m \u001b[1m1s\u001b[0m 646us/step - accuracy: 0.7589 - loss: 0.4326 - val_accuracy: 0.7733 - val_loss: 0.4260\n",
      "Epoch 33/100\n",
      "\u001b[1m1081/1081\u001b[0m \u001b[32m━━━━━━━━━━━━━━━━━━━━\u001b[0m\u001b[37m\u001b[0m \u001b[1m1s\u001b[0m 648us/step - accuracy: 0.7704 - loss: 0.4269 - val_accuracy: 0.7715 - val_loss: 0.4235\n",
      "Epoch 34/100\n",
      "\u001b[1m1081/1081\u001b[0m \u001b[32m━━━━━━━━━━━━━━━━━━━━\u001b[0m\u001b[37m\u001b[0m \u001b[1m1s\u001b[0m 653us/step - accuracy: 0.7685 - loss: 0.4292 - val_accuracy: 0.7768 - val_loss: 0.4390\n",
      "Epoch 35/100\n",
      "\u001b[1m1081/1081\u001b[0m \u001b[32m━━━━━━━━━━━━━━━━━━━━\u001b[0m\u001b[37m\u001b[0m \u001b[1m1s\u001b[0m 644us/step - accuracy: 0.7674 - loss: 0.4302 - val_accuracy: 0.7910 - val_loss: 0.4072\n",
      "Epoch 36/100\n",
      "\u001b[1m1081/1081\u001b[0m \u001b[32m━━━━━━━━━━━━━━━━━━━━\u001b[0m\u001b[37m\u001b[0m \u001b[1m1s\u001b[0m 651us/step - accuracy: 0.7783 - loss: 0.4167 - val_accuracy: 0.7826 - val_loss: 0.4036\n",
      "Epoch 37/100\n",
      "\u001b[1m1081/1081\u001b[0m \u001b[32m━━━━━━━━━━━━━━━━━━━━\u001b[0m\u001b[37m\u001b[0m \u001b[1m1s\u001b[0m 648us/step - accuracy: 0.7878 - loss: 0.4090 - val_accuracy: 0.7967 - val_loss: 0.3910\n",
      "Epoch 38/100\n",
      "\u001b[1m1081/1081\u001b[0m \u001b[32m━━━━━━━━━━━━━━━━━━━━\u001b[0m\u001b[37m\u001b[0m \u001b[1m1s\u001b[0m 650us/step - accuracy: 0.7812 - loss: 0.4074 - val_accuracy: 0.7750 - val_loss: 0.4087\n",
      "Epoch 39/100\n",
      "\u001b[1m1081/1081\u001b[0m \u001b[32m━━━━━━━━━━━━━━━━━━━━\u001b[0m\u001b[37m\u001b[0m \u001b[1m1s\u001b[0m 645us/step - accuracy: 0.7962 - loss: 0.3973 - val_accuracy: 0.7594 - val_loss: 0.4479\n",
      "Epoch 40/100\n",
      "\u001b[1m1081/1081\u001b[0m \u001b[32m━━━━━━━━━━━━━━━━━━━━\u001b[0m\u001b[37m\u001b[0m \u001b[1m1s\u001b[0m 646us/step - accuracy: 0.7976 - loss: 0.3928 - val_accuracy: 0.8096 - val_loss: 0.3872\n",
      "Epoch 41/100\n",
      "\u001b[1m1081/1081\u001b[0m \u001b[32m━━━━━━━━━━━━━━━━━━━━\u001b[0m\u001b[37m\u001b[0m \u001b[1m1s\u001b[0m 648us/step - accuracy: 0.8009 - loss: 0.3931 - val_accuracy: 0.8006 - val_loss: 0.3926\n",
      "Epoch 42/100\n",
      "\u001b[1m1081/1081\u001b[0m \u001b[32m━━━━━━━━━━━━━━━━━━━━\u001b[0m\u001b[37m\u001b[0m \u001b[1m1s\u001b[0m 654us/step - accuracy: 0.8082 - loss: 0.3826 - val_accuracy: 0.7985 - val_loss: 0.3865\n",
      "Epoch 43/100\n",
      "\u001b[1m1081/1081\u001b[0m \u001b[32m━━━━━━━━━━━━━━━━━━━━\u001b[0m\u001b[37m\u001b[0m \u001b[1m1s\u001b[0m 641us/step - accuracy: 0.8076 - loss: 0.3808 - val_accuracy: 0.7910 - val_loss: 0.4376\n",
      "Epoch 44/100\n",
      "\u001b[1m1081/1081\u001b[0m \u001b[32m━━━━━━━━━━━━━━━━━━━━\u001b[0m\u001b[37m\u001b[0m \u001b[1m1s\u001b[0m 640us/step - accuracy: 0.8120 - loss: 0.3806 - val_accuracy: 0.8103 - val_loss: 0.3878\n",
      "Epoch 45/100\n",
      "\u001b[1m1081/1081\u001b[0m \u001b[32m━━━━━━━━━━━━━━━━━━━━\u001b[0m\u001b[37m\u001b[0m \u001b[1m1s\u001b[0m 645us/step - accuracy: 0.8142 - loss: 0.3751 - val_accuracy: 0.8240 - val_loss: 0.3516\n",
      "Epoch 46/100\n",
      "\u001b[1m1081/1081\u001b[0m \u001b[32m━━━━━━━━━━━━━━━━━━━━\u001b[0m\u001b[37m\u001b[0m \u001b[1m1s\u001b[0m 653us/step - accuracy: 0.8164 - loss: 0.3683 - val_accuracy: 0.8040 - val_loss: 0.3913\n",
      "Epoch 47/100\n",
      "\u001b[1m1081/1081\u001b[0m \u001b[32m━━━━━━━━━━━━━━━━━━━━\u001b[0m\u001b[37m\u001b[0m \u001b[1m1s\u001b[0m 646us/step - accuracy: 0.8188 - loss: 0.3663 - val_accuracy: 0.8244 - val_loss: 0.3549\n",
      "Epoch 48/100\n",
      "\u001b[1m1081/1081\u001b[0m \u001b[32m━━━━━━━━━━━━━━━━━━━━\u001b[0m\u001b[37m\u001b[0m \u001b[1m1s\u001b[0m 652us/step - accuracy: 0.8175 - loss: 0.3688 - val_accuracy: 0.8295 - val_loss: 0.3469\n",
      "Epoch 49/100\n",
      "\u001b[1m1081/1081\u001b[0m \u001b[32m━━━━━━━━━━━━━━━━━━━━\u001b[0m\u001b[37m\u001b[0m \u001b[1m1s\u001b[0m 651us/step - accuracy: 0.8233 - loss: 0.3622 - val_accuracy: 0.8200 - val_loss: 0.3688\n",
      "Epoch 50/100\n",
      "\u001b[1m1081/1081\u001b[0m \u001b[32m━━━━━━━━━━━━━━━━━━━━\u001b[0m\u001b[37m\u001b[0m \u001b[1m1s\u001b[0m 653us/step - accuracy: 0.8267 - loss: 0.3551 - val_accuracy: 0.8131 - val_loss: 0.3747\n",
      "Epoch 51/100\n",
      "\u001b[1m1081/1081\u001b[0m \u001b[32m━━━━━━━━━━━━━━━━━━━━\u001b[0m\u001b[37m\u001b[0m \u001b[1m1s\u001b[0m 664us/step - accuracy: 0.8262 - loss: 0.3545 - val_accuracy: 0.8164 - val_loss: 0.3675\n",
      "Epoch 52/100\n",
      "\u001b[1m1081/1081\u001b[0m \u001b[32m━━━━━━━━━━━━━━━━━━━━\u001b[0m\u001b[37m\u001b[0m \u001b[1m1s\u001b[0m 657us/step - accuracy: 0.8260 - loss: 0.3551 - val_accuracy: 0.8273 - val_loss: 0.3569\n",
      "Epoch 53/100\n",
      "\u001b[1m1081/1081\u001b[0m \u001b[32m━━━━━━━━━━━━━━━━━━━━\u001b[0m\u001b[37m\u001b[0m \u001b[1m1s\u001b[0m 651us/step - accuracy: 0.8326 - loss: 0.3444 - val_accuracy: 0.8384 - val_loss: 0.3435\n",
      "Epoch 54/100\n",
      "\u001b[1m1081/1081\u001b[0m \u001b[32m━━━━━━━━━━━━━━━━━━━━\u001b[0m\u001b[37m\u001b[0m \u001b[1m1s\u001b[0m 655us/step - accuracy: 0.8319 - loss: 0.3443 - val_accuracy: 0.8256 - val_loss: 0.3702\n",
      "Epoch 55/100\n",
      "\u001b[1m1081/1081\u001b[0m \u001b[32m━━━━━━━━━━━━━━━━━━━━\u001b[0m\u001b[37m\u001b[0m \u001b[1m1s\u001b[0m 731us/step - accuracy: 0.8338 - loss: 0.3469 - val_accuracy: 0.8436 - val_loss: 0.3328\n",
      "Epoch 56/100\n",
      "\u001b[1m1081/1081\u001b[0m \u001b[32m━━━━━━━━━━━━━━━━━━━━\u001b[0m\u001b[37m\u001b[0m \u001b[1m1s\u001b[0m 673us/step - accuracy: 0.8393 - loss: 0.3355 - val_accuracy: 0.8310 - val_loss: 0.3550\n",
      "Epoch 57/100\n",
      "\u001b[1m1081/1081\u001b[0m \u001b[32m━━━━━━━━━━━━━━━━━━━━\u001b[0m\u001b[37m\u001b[0m \u001b[1m1s\u001b[0m 655us/step - accuracy: 0.8398 - loss: 0.3376 - val_accuracy: 0.8514 - val_loss: 0.3191\n",
      "Epoch 58/100\n",
      "\u001b[1m1081/1081\u001b[0m \u001b[32m━━━━━━━━━━━━━━━━━━━━\u001b[0m\u001b[37m\u001b[0m \u001b[1m1s\u001b[0m 658us/step - accuracy: 0.8385 - loss: 0.3369 - val_accuracy: 0.8509 - val_loss: 0.3127\n",
      "Epoch 59/100\n",
      "\u001b[1m1081/1081\u001b[0m \u001b[32m━━━━━━━━━━━━━━━━━━━━\u001b[0m\u001b[37m\u001b[0m \u001b[1m1s\u001b[0m 674us/step - accuracy: 0.8419 - loss: 0.3251 - val_accuracy: 0.8337 - val_loss: 0.3518\n",
      "Epoch 60/100\n",
      "\u001b[1m1081/1081\u001b[0m \u001b[32m━━━━━━━━━━━━━━━━━━━━\u001b[0m\u001b[37m\u001b[0m \u001b[1m1s\u001b[0m 663us/step - accuracy: 0.8406 - loss: 0.3312 - val_accuracy: 0.8483 - val_loss: 0.3276\n",
      "Epoch 61/100\n",
      "\u001b[1m1081/1081\u001b[0m \u001b[32m━━━━━━━━━━━━━━━━━━━━\u001b[0m\u001b[37m\u001b[0m \u001b[1m1s\u001b[0m 661us/step - accuracy: 0.8513 - loss: 0.3178 - val_accuracy: 0.8581 - val_loss: 0.3074\n",
      "Epoch 62/100\n",
      "\u001b[1m1081/1081\u001b[0m \u001b[32m━━━━━━━━━━━━━━━━━━━━\u001b[0m\u001b[37m\u001b[0m \u001b[1m1s\u001b[0m 665us/step - accuracy: 0.8455 - loss: 0.3224 - val_accuracy: 0.8612 - val_loss: 0.3078\n",
      "Epoch 63/100\n",
      "\u001b[1m1081/1081\u001b[0m \u001b[32m━━━━━━━━━━━━━━━━━━━━\u001b[0m\u001b[37m\u001b[0m \u001b[1m1s\u001b[0m 667us/step - accuracy: 0.8523 - loss: 0.3097 - val_accuracy: 0.8412 - val_loss: 0.3295\n",
      "Epoch 64/100\n",
      "\u001b[1m1081/1081\u001b[0m \u001b[32m━━━━━━━━━━━━━━━━━━━━\u001b[0m\u001b[37m\u001b[0m \u001b[1m1s\u001b[0m 656us/step - accuracy: 0.8529 - loss: 0.3143 - val_accuracy: 0.8624 - val_loss: 0.3089\n",
      "Epoch 65/100\n",
      "\u001b[1m1081/1081\u001b[0m \u001b[32m━━━━━━━━━━━━━━━━━━━━\u001b[0m\u001b[37m\u001b[0m \u001b[1m1s\u001b[0m 660us/step - accuracy: 0.8547 - loss: 0.3088 - val_accuracy: 0.8561 - val_loss: 0.3064\n",
      "Epoch 66/100\n",
      "\u001b[1m1081/1081\u001b[0m \u001b[32m━━━━━━━━━━━━━━━━━━━━\u001b[0m\u001b[37m\u001b[0m \u001b[1m1s\u001b[0m 656us/step - accuracy: 0.8568 - loss: 0.3051 - val_accuracy: 0.8502 - val_loss: 0.3172\n",
      "Epoch 67/100\n",
      "\u001b[1m1081/1081\u001b[0m \u001b[32m━━━━━━━━━━━━━━━━━━━━\u001b[0m\u001b[37m\u001b[0m \u001b[1m1s\u001b[0m 649us/step - accuracy: 0.8548 - loss: 0.3048 - val_accuracy: 0.8715 - val_loss: 0.2892\n",
      "Epoch 68/100\n",
      "\u001b[1m1081/1081\u001b[0m \u001b[32m━━━━━━━━━━━━━━━━━━━━\u001b[0m\u001b[37m\u001b[0m \u001b[1m1s\u001b[0m 661us/step - accuracy: 0.8543 - loss: 0.3023 - val_accuracy: 0.8539 - val_loss: 0.3020\n",
      "Epoch 69/100\n",
      "\u001b[1m1081/1081\u001b[0m \u001b[32m━━━━━━━━━━━━━━━━━━━━\u001b[0m\u001b[37m\u001b[0m \u001b[1m1s\u001b[0m 651us/step - accuracy: 0.8620 - loss: 0.2923 - val_accuracy: 0.8488 - val_loss: 0.3296\n",
      "Epoch 70/100\n",
      "\u001b[1m1081/1081\u001b[0m \u001b[32m━━━━━━━━━━━━━━━━━━━━\u001b[0m\u001b[37m\u001b[0m \u001b[1m1s\u001b[0m 652us/step - accuracy: 0.8633 - loss: 0.2950 - val_accuracy: 0.8570 - val_loss: 0.3658\n",
      "Epoch 71/100\n",
      "\u001b[1m1081/1081\u001b[0m \u001b[32m━━━━━━━━━━━━━━━━━━━━\u001b[0m\u001b[37m\u001b[0m \u001b[1m1s\u001b[0m 657us/step - accuracy: 0.8623 - loss: 0.2944 - val_accuracy: 0.8702 - val_loss: 0.2812\n",
      "Epoch 72/100\n",
      "\u001b[1m1081/1081\u001b[0m \u001b[32m━━━━━━━━━━━━━━━━━━━━\u001b[0m\u001b[37m\u001b[0m \u001b[1m1s\u001b[0m 666us/step - accuracy: 0.8730 - loss: 0.2754 - val_accuracy: 0.8740 - val_loss: 0.2874\n",
      "Epoch 73/100\n",
      "\u001b[1m1081/1081\u001b[0m \u001b[32m━━━━━━━━━━━━━━━━━━━━\u001b[0m\u001b[37m\u001b[0m \u001b[1m1s\u001b[0m 661us/step - accuracy: 0.8741 - loss: 0.2761 - val_accuracy: 0.8590 - val_loss: 0.2913\n",
      "Epoch 74/100\n",
      "\u001b[1m1081/1081\u001b[0m \u001b[32m━━━━━━━━━━━━━━━━━━━━\u001b[0m\u001b[37m\u001b[0m \u001b[1m1s\u001b[0m 668us/step - accuracy: 0.8724 - loss: 0.2739 - val_accuracy: 0.8747 - val_loss: 0.2660\n",
      "Epoch 75/100\n",
      "\u001b[1m1081/1081\u001b[0m \u001b[32m━━━━━━━━━━━━━━━━━━━━\u001b[0m\u001b[37m\u001b[0m \u001b[1m1s\u001b[0m 667us/step - accuracy: 0.8741 - loss: 0.2691 - val_accuracy: 0.8919 - val_loss: 0.2487\n",
      "Epoch 76/100\n",
      "\u001b[1m1081/1081\u001b[0m \u001b[32m━━━━━━━━━━━━━━━━━━━━\u001b[0m\u001b[37m\u001b[0m \u001b[1m1s\u001b[0m 667us/step - accuracy: 0.8809 - loss: 0.2642 - val_accuracy: 0.8758 - val_loss: 0.2695\n",
      "Epoch 77/100\n",
      "\u001b[1m1081/1081\u001b[0m \u001b[32m━━━━━━━━━━━━━━━━━━━━\u001b[0m\u001b[37m\u001b[0m \u001b[1m1s\u001b[0m 670us/step - accuracy: 0.8810 - loss: 0.2641 - val_accuracy: 0.8864 - val_loss: 0.2530\n",
      "Epoch 78/100\n",
      "\u001b[1m1081/1081\u001b[0m \u001b[32m━━━━━━━━━━━━━━━━━━━━\u001b[0m\u001b[37m\u001b[0m \u001b[1m1s\u001b[0m 665us/step - accuracy: 0.8805 - loss: 0.2610 - val_accuracy: 0.8910 - val_loss: 0.2527\n",
      "Epoch 79/100\n",
      "\u001b[1m1081/1081\u001b[0m \u001b[32m━━━━━━━━━━━━━━━━━━━━\u001b[0m\u001b[37m\u001b[0m \u001b[1m1s\u001b[0m 663us/step - accuracy: 0.8748 - loss: 0.2676 - val_accuracy: 0.8806 - val_loss: 0.2547\n",
      "Epoch 80/100\n",
      "\u001b[1m1081/1081\u001b[0m \u001b[32m━━━━━━━━━━━━━━━━━━━━\u001b[0m\u001b[37m\u001b[0m \u001b[1m1s\u001b[0m 664us/step - accuracy: 0.8850 - loss: 0.2477 - val_accuracy: 0.8729 - val_loss: 0.2822\n",
      "Epoch 81/100\n",
      "\u001b[1m1081/1081\u001b[0m \u001b[32m━━━━━━━━━━━━━━━━━━━━\u001b[0m\u001b[37m\u001b[0m \u001b[1m1s\u001b[0m 659us/step - accuracy: 0.8872 - loss: 0.2500 - val_accuracy: 0.8638 - val_loss: 0.2838\n",
      "Epoch 82/100\n",
      "\u001b[1m1081/1081\u001b[0m \u001b[32m━━━━━━━━━━━━━━━━━━━━\u001b[0m\u001b[37m\u001b[0m \u001b[1m1s\u001b[0m 664us/step - accuracy: 0.8781 - loss: 0.2589 - val_accuracy: 0.8898 - val_loss: 0.2531\n",
      "Epoch 83/100\n",
      "\u001b[1m1081/1081\u001b[0m \u001b[32m━━━━━━━━━━━━━━━━━━━━\u001b[0m\u001b[37m\u001b[0m \u001b[1m1s\u001b[0m 663us/step - accuracy: 0.8871 - loss: 0.2490 - val_accuracy: 0.8910 - val_loss: 0.2433\n",
      "Epoch 84/100\n",
      "\u001b[1m1081/1081\u001b[0m \u001b[32m━━━━━━━━━━━━━━━━━━━━\u001b[0m\u001b[37m\u001b[0m \u001b[1m1s\u001b[0m 660us/step - accuracy: 0.8818 - loss: 0.2535 - val_accuracy: 0.8982 - val_loss: 0.2308\n",
      "Epoch 85/100\n",
      "\u001b[1m1081/1081\u001b[0m \u001b[32m━━━━━━━━━━━━━━━━━━━━\u001b[0m\u001b[37m\u001b[0m \u001b[1m1s\u001b[0m 661us/step - accuracy: 0.8863 - loss: 0.2440 - val_accuracy: 0.8851 - val_loss: 0.2671\n",
      "Epoch 86/100\n",
      "\u001b[1m1081/1081\u001b[0m \u001b[32m━━━━━━━━━━━━━━━━━━━━\u001b[0m\u001b[37m\u001b[0m \u001b[1m1s\u001b[0m 670us/step - accuracy: 0.8841 - loss: 0.2538 - val_accuracy: 0.9079 - val_loss: 0.2119\n",
      "Epoch 87/100\n",
      "\u001b[1m1081/1081\u001b[0m \u001b[32m━━━━━━━━━━━━━━━━━━━━\u001b[0m\u001b[37m\u001b[0m \u001b[1m1s\u001b[0m 665us/step - accuracy: 0.8905 - loss: 0.2388 - val_accuracy: 0.8907 - val_loss: 0.2403\n",
      "Epoch 88/100\n",
      "\u001b[1m1081/1081\u001b[0m \u001b[32m━━━━━━━━━━━━━━━━━━━━\u001b[0m\u001b[37m\u001b[0m \u001b[1m1s\u001b[0m 673us/step - accuracy: 0.8888 - loss: 0.2398 - val_accuracy: 0.8954 - val_loss: 0.2314\n",
      "Epoch 89/100\n",
      "\u001b[1m1081/1081\u001b[0m \u001b[32m━━━━━━━━━━━━━━━━━━━━\u001b[0m\u001b[37m\u001b[0m \u001b[1m1s\u001b[0m 668us/step - accuracy: 0.8935 - loss: 0.2365 - val_accuracy: 0.8961 - val_loss: 0.2347\n",
      "Epoch 90/100\n",
      "\u001b[1m1081/1081\u001b[0m \u001b[32m━━━━━━━━━━━━━━━━━━━━\u001b[0m\u001b[37m\u001b[0m \u001b[1m1s\u001b[0m 664us/step - accuracy: 0.8897 - loss: 0.2410 - val_accuracy: 0.8885 - val_loss: 0.2447\n",
      "Epoch 91/100\n",
      "\u001b[1m1081/1081\u001b[0m \u001b[32m━━━━━━━━━━━━━━━━━━━━\u001b[0m\u001b[37m\u001b[0m \u001b[1m1s\u001b[0m 666us/step - accuracy: 0.8896 - loss: 0.2462 - val_accuracy: 0.8691 - val_loss: 0.2870\n",
      "Epoch 92/100\n",
      "\u001b[1m1081/1081\u001b[0m \u001b[32m━━━━━━━━━━━━━━━━━━━━\u001b[0m\u001b[37m\u001b[0m \u001b[1m1s\u001b[0m 663us/step - accuracy: 0.8895 - loss: 0.2475 - val_accuracy: 0.8902 - val_loss: 0.2308\n",
      "Epoch 93/100\n",
      "\u001b[1m1081/1081\u001b[0m \u001b[32m━━━━━━━━━━━━━━━━━━━━\u001b[0m\u001b[37m\u001b[0m \u001b[1m1s\u001b[0m 649us/step - accuracy: 0.8921 - loss: 0.2374 - val_accuracy: 0.8768 - val_loss: 0.2676\n",
      "Epoch 94/100\n",
      "\u001b[1m1081/1081\u001b[0m \u001b[32m━━━━━━━━━━━━━━━━━━━━\u001b[0m\u001b[37m\u001b[0m \u001b[1m1s\u001b[0m 652us/step - accuracy: 0.8941 - loss: 0.2348 - val_accuracy: 0.8908 - val_loss: 0.2399\n",
      "Epoch 95/100\n",
      "\u001b[1m1081/1081\u001b[0m \u001b[32m━━━━━━━━━━━━━━━━━━━━\u001b[0m\u001b[37m\u001b[0m \u001b[1m1s\u001b[0m 661us/step - accuracy: 0.8899 - loss: 0.2319 - val_accuracy: 0.8846 - val_loss: 0.2531\n",
      "Epoch 96/100\n",
      "\u001b[1m1081/1081\u001b[0m \u001b[32m━━━━━━━━━━━━━━━━━━━━\u001b[0m\u001b[37m\u001b[0m \u001b[1m1s\u001b[0m 654us/step - accuracy: 0.8931 - loss: 0.2336 - val_accuracy: 0.8664 - val_loss: 0.2980\n",
      "Epoch 97/100\n",
      "\u001b[1m1081/1081\u001b[0m \u001b[32m━━━━━━━━━━━━━━━━━━━━\u001b[0m\u001b[37m\u001b[0m \u001b[1m1s\u001b[0m 652us/step - accuracy: 0.8985 - loss: 0.2290 - val_accuracy: 0.9046 - val_loss: 0.2107\n",
      "Epoch 98/100\n",
      "\u001b[1m1081/1081\u001b[0m \u001b[32m━━━━━━━━━━━━━━━━━━━━\u001b[0m\u001b[37m\u001b[0m \u001b[1m1s\u001b[0m 657us/step - accuracy: 0.8989 - loss: 0.2253 - val_accuracy: 0.8949 - val_loss: 0.2430\n",
      "Epoch 99/100\n",
      "\u001b[1m1081/1081\u001b[0m \u001b[32m━━━━━━━━━━━━━━━━━━━━\u001b[0m\u001b[37m\u001b[0m \u001b[1m1s\u001b[0m 652us/step - accuracy: 0.8935 - loss: 0.2309 - val_accuracy: 0.8889 - val_loss: 0.2486\n",
      "Epoch 100/100\n",
      "\u001b[1m1081/1081\u001b[0m \u001b[32m━━━━━━━━━━━━━━━━━━━━\u001b[0m\u001b[37m\u001b[0m \u001b[1m1s\u001b[0m 651us/step - accuracy: 0.8933 - loss: 0.2319 - val_accuracy: 0.8864 - val_loss: 0.2525\n"
     ]
    },
    {
     "data": {
      "text/plain": [
       "<keras.src.callbacks.history.History at 0x21650a25d30>"
      ]
     },
     "execution_count": 14,
     "metadata": {},
     "output_type": "execute_result"
    }
   ],
   "source": [
    "model = Sequential()\n",
    "model.add(Input(shape=(X_train.shape[1],)))\n",
    "model.add(Dense(128, activation='relu'))\n",
    "model.add(Dense(64, activation='relu'))\n",
    "model.add(Dense(1, activation='sigmoid'))\n",
    "\n",
    "model.compile(optimizer='adam', loss='binary_crossentropy', metrics=['accuracy'])\n",
    "\n",
    "callback = EarlyStopping(monitor='val_loss', patience=3)\n",
    "\n",
    "model.fit(X_train, y_train, epochs=100, batch_size=32, validation_split=0.2)"
   ]
  },
  {
   "cell_type": "markdown",
   "metadata": {},
   "source": [
    "Decidí utilizar 2 capas internas, una de 128 neuronas y otra de 64, por las tareas, los codigos y busqueda en internet consideré que era un buen balance además puede permitir encontrar patrones más complejos. Como input utilice la cantidad de datos que tiene el dataset de entrenamiento. Para las funciones de activacion utilice relu para las capas internas, porque permite que el modelo sea no lineal. Para la capa de salida utilice sigmoid, ya que queria de salida valores probabilisticos entre 1 y 0, ya que estas eran las clases. Use el callback utilizado en clases pero con un val_loss ya que permite que el modelo se detenga cuando no mejora y evitar el sobreajuste. Las epocas las elegi en base a prueba y error, además que en general no converge y siempre mejoora entonces al ponerle más epocas tuvo mejor accuracy. Además escogi un validation_split de 0.2 para tener un conjunto de validacion y evitar el sobreajuste.\n",
    "\n",
    "https://keras.io/api/layers/activations/"
   ]
  },
  {
   "cell_type": "markdown",
   "metadata": {},
   "source": [
    "### 3.4 Evaluar MLP (3 Pts)"
   ]
  },
  {
   "cell_type": "markdown",
   "metadata": {},
   "source": [
    "Evalúe el modelo con los datos de `testing` y calcule `accuracy`, `precision`, `recall` y `f1-score`. Puedes apoyarte de un reporte de clasificación. Comenta todos los resultados y explica qué significa cada métrica."
   ]
  },
  {
   "cell_type": "code",
   "execution_count": 15,
   "metadata": {},
   "outputs": [
    {
     "name": "stdout",
     "output_type": "stream",
     "text": [
      "\u001b[1m338/338\u001b[0m \u001b[32m━━━━━━━━━━━━━━━━━━━━\u001b[0m\u001b[37m\u001b[0m \u001b[1m0s\u001b[0m 439us/step - accuracy: 0.8915 - loss: 0.2376\n",
      "Loss: 0.2453301101922989, Accuracy: 0.8876653909683228\n"
     ]
    }
   ],
   "source": [
    "loss, accuracy = model.evaluate(X_test, y_test)\n",
    "print(f'Loss: {loss}, Accuracy: {accuracy}')"
   ]
  },
  {
   "cell_type": "markdown",
   "metadata": {},
   "source": [
    "El loss significa la perdida, es decir que tan bien o mal se estanciendo las predicciones con los datos reales, en general el valor obtenido considero que es relativamente bueno, pero que puede estar teniendo bastantes errores, aunque esto tambien se puede dar por el numero de epocas.\n",
    "\n",
    "El accuracy de un 88% considero que es un valor bastante bueno pues significa que el modelo acierta en un 88% de los casos. "
   ]
  },
  {
   "cell_type": "code",
   "execution_count": 16,
   "metadata": {},
   "outputs": [
    {
     "name": "stdout",
     "output_type": "stream",
     "text": [
      "\u001b[1m338/338\u001b[0m \u001b[32m━━━━━━━━━━━━━━━━━━━━\u001b[0m\u001b[37m\u001b[0m \u001b[1m0s\u001b[0m 484us/step\n"
     ]
    }
   ],
   "source": [
    "y_pred_prob = model.predict(X_test)\n",
    "y_pred = (y_pred_prob > 0.5).astype(int) # recomendado por gpt para transformar las probabilidades en 0 y 1 que determinaria la clase"
   ]
  },
  {
   "cell_type": "code",
   "execution_count": 17,
   "metadata": {},
   "outputs": [
    {
     "name": "stdout",
     "output_type": "stream",
     "text": [
      "Accuracy: 0.8876654020542241\n"
     ]
    }
   ],
   "source": [
    "print(f\"Accuracy: {accuracy_score(y_test, y_pred)}\")"
   ]
  },
  {
   "cell_type": "code",
   "execution_count": 18,
   "metadata": {},
   "outputs": [
    {
     "name": "stdout",
     "output_type": "stream",
     "text": [
      "\n",
      "Classification Report : \n",
      "              precision    recall  f1-score   support\n",
      "\n",
      "           0       0.88      0.87      0.88      4909\n",
      "           1       0.89      0.90      0.90      5898\n",
      "\n",
      "    accuracy                           0.89     10807\n",
      "   macro avg       0.89      0.89      0.89     10807\n",
      "weighted avg       0.89      0.89      0.89     10807\n",
      "\n"
     ]
    }
   ],
   "source": [
    "print(\"\\nClassification Report : \")\n",
    "print(classification_report(y_test, y_pred))"
   ]
  },
  {
   "cell_type": "markdown",
   "metadata": {},
   "source": [
    "En cuanto a la precision es bastante buena para ambas clases, aunque un poco mejor para la clase 1, es decir que se logra identificar mejor a la clase uno y esto puede ser por la cantidad de datos, que en el caso de 1 son un 55%.\n",
    "\n",
    "El recall tambien es alto, para ambos y para la clase uno más, lo que significa que se identifica de manera más efectiva a la clase 1.\n",
    "\n",
    "El f1-score es un promedio ponderado de la precision y el recall entonces por consecuencia este es un valor alto y se ve que el modelo es bastante equilibirado comparando los resultados de ambas clases."
   ]
  },
  {
   "cell_type": "markdown",
   "metadata": {},
   "source": [
    "### 3.5 Matriz de Confusión (3 Pts)"
   ]
  },
  {
   "cell_type": "markdown",
   "metadata": {},
   "source": [
    "Genere una `matriz de confusión` normalizada del modelo y responda las preguntas:\n",
    "1. ¿Qué significa cada fila de la matriz?\n",
    "2. ¿Qué significa cada columna de la matriz?\n",
    "3. Explique error `tipo I` y error `tipo II` en base a la matriz de confusión.\n",
    "4. ¿Cuál es el error más grave en este caso?"
   ]
  },
  {
   "cell_type": "code",
   "execution_count": 27,
   "metadata": {},
   "outputs": [
    {
     "data": {
      "image/png": "[encoded data removed]",
      "text/plain": [
       "<Figure size 640x480 with 2 Axes>"
      ]
     },
     "metadata": {},
     "output_type": "display_data"
    }
   ],
   "source": [
    "conf_matrix = confusion_matrix(y_test, y_pred, normalize='true')\n",
    "\n",
    "# https://www.w3schools.com/python/python_ml_confusion_matrix.asp\n",
    "disp = ConfusionMatrixDisplay(confusion_matrix=conf_matrix, display_labels=[0, 1])\n",
    "disp.plot(cmap=plt.cm.Blues)\n",
    "plt.title(\"Matriz de Confusión Normalizada\")\n",
    "plt.show()"
   ]
  },
  {
   "cell_type": "markdown",
   "metadata": {},
   "source": [
    "Cada fila son las clases reales, es decir si es venenoso o no, 1 o 0. \n",
    "\n",
    "Cada columna son las predicciones hechas por el modelo para cada clase, la primera es la prediccion para el 0 y la segunda para el 1.\n",
    "\n",
    "El error tipo I son los falso positivos, es decir cuando se predice incorrectamente la clase positiva, en este caso es en (0, 1), en donde un 13% de los casos reales de que no son venenosos (0) se predijo como que si eran venenosas.\n",
    "\n",
    "El error de tipo II son los falsos negativos, es decir cuando se predice incorrectamente la clase negativa, en este caso es en (1, 0), en donde un 10% de los casos reales de que son venenosos (1) se predijo como que no."
   ]
  },
  {
   "cell_type": "markdown",
   "metadata": {},
   "source": [
    "## Parte 4: Regresión Logística (15 Pts.)"
   ]
  },
  {
   "cell_type": "markdown",
   "metadata": {},
   "source": [
    "### 4.1 Regresión Logística: Explicación teórica (4.5 pts)"
   ]
  },
  {
   "cell_type": "markdown",
   "metadata": {},
   "source": [
    "Investiga sobre `Regresión Lógistica` y da una explicación con tus propias palabras de cómo funciona. Nuevamente no se espera una demostración matemática, el objetivo es que demuestres tu aprendizaje. Debes responder las siguientes preguntas:\n",
    "1. ¿Qué es?\n",
    "2. ¿Para qué sirve?\n",
    "3. ¿Cómo funciona?\n",
    "4. ¿Qué tipo de problemas resuelve?\n",
    "5. ¿Cuáles son sus ventajas y desventajas?\n",
    "6. ¿Qué es la función sigmoide?\n",
    "7. ¿Qué son los pesos y el sesgo?\n",
    "8. ¿Cuál es la diferencia entre la regresión logística y la regresión lineal?\n",
    "9. ¿En qué situaciones es mejor utilizar regresión logística?\n",
    "\n",
    "**:exclamation:IMPORTANTE:exclamation:** No utilices ChatGPT u otro modelo de lenguaje para responder esta pregunta. Será evaluado que cites al menos 1 recurso bibliográfico que hayas utilizado. Cualquier información que no tenga una referencia clara no se le dará puntaje."
   ]
  },
  {
   "cell_type": "markdown",
   "metadata": {},
   "source": [
    "1. ¿Qué es?: Es una tecnica de clasificacion que se basa en la regresion lineal, pero en vez de predecir un valor continuo, predice la probabilidad de que un dato pertenezca a una clase o a otra.\n",
    "2. ¿Para qué sirve?: Sirve para hacer un procesamiento de datos sin la necesidad de intervencion humana. Sirve para realizar clasificaciones binarias.\n",
    "3. ¿Cómo funciona?: Obtiene los datos relevantes que pueden influir en la clasificacion, obteniendo la probabilidad de que un dato pertenezca a una clase o a otra, esta probabilidad se pasa por una funcion sigmoide y si es mayor que 0.5 se clasifica como 1 y si es menor como 0. Tambien se le puede aplicar un umbral.\n",
    "4. ¿Qué tipo de problemas resuelve?: Como se mencionó anteriormente, especialmente problemas de clasificacion binaria, en el link de AWS se ven algunos ejemplos como Fabricacion, para probabilidad de que un producto sea defectuoso o no, en medicina para predecir si un paciente tiene una enfermedad o no de manera preventiva, entre otros.\n",
    "5. ¿Cuáles son sus ventajas y desventajas?: Algunas ventajas, puede ser la simplicidad y facilidad de uso, por eso es que se usa para casi todos los ambitos. Puede ser facil de interpretar y entregar muy buenos resultados, aunque depende de los datos. Algunas desventajas es que no puede resolver problamas de clasificacion multiclase, que puede tener problemas al manejar los datos no linealmente separables y que como depende tanto de los datos, puede ser muy sensible a estos.\n",
    "6. ¿Qué es la función sigmoide?: Es una funcion que comprime la salida de la regresion lineal (no solo de esto sino los datos de entrada, como lo use en MLP) entre 0 y 1, entonces facilita la clasificacion binaria pues se puede interpretar como una probabilidad.\n",
    "7. ¿Qué son los pesos y el sesgo?: Los pesos, como lo dice su nombre es la importancia que se le da a cada dato, es decir la influencia que tiene en la clasificacion, ya se explico anteriormente (se multiplica). El sesgo, es una constante que se suma para ajustar al modelo a los datos. \n",
    "8. ¿Cuál es la diferencia entre la regresión logística y la regresión lineal?: La regresion lineal se usa para predecir valores continuos, mientras que la regresion logistica se usa para clasificar datos en dos clases, prediciendo mediante una probabilidad. \n",
    "9.  ¿En qué situaciones es mejor utilizar regresión logística?: Como se ha mencionado anteriormente, en problemas de clasificacion binaria y es aun mejor utilizarla para los problemas en donde los datos sean linealmente separables, ya que facilita la prediccion y se pueden obtener buenos resultados. Además que los resultados pueden ser de facil interpretacion.\n",
    "\n",
    "https://aws.amazon.com/es/what-is/logistic-regression/\n",
    "\n",
    "https://es.wikipedia.org/wiki/Regresi%C3%B3n_log%C3%ADstica\n",
    "\n",
    "https://konfuzio.com/es/regresion-logistica/#wie-funktioniert-logistische-regression\n",
    "\n",
    "https://jacar.es/la-funcion-sigmoide-una-herramienta-clave-en-redes-neuronales/#:~:text=La%20funci%C3%B3n%20sigmoide%20se%20utiliza%20com%C3%BAnmente%20en,%C3%BAtil%20para%20modelar%20probabilidades%20y%20realizar%20clasificaciones"
   ]
  },
  {
   "cell_type": "markdown",
   "metadata": {},
   "source": [
    "### 4.2 Crear y Entrenar Regresión Logística (6 pts)"
   ]
  },
  {
   "cell_type": "markdown",
   "metadata": {},
   "source": [
    "Crea y entrena un modelo de regresion logistica con los datos de entrenamiento, donde a traves del parametro `solver`, deberas elegir minimo 3 opciones diferentes de algoritmos de optimizacion, responder `cuales son sus principales diferencias` respecto a como actualizan los parametros del modelo y `dar una hipotesis` sobre cual crees que sera el algoritmo que funcione mejor para este dataset. Recuerda que la idea es que `justifiques tu respuesta`."
   ]
  },
  {
   "cell_type": "code",
   "execution_count": 20,
   "metadata": {},
   "outputs": [
    {
     "name": "stderr",
     "output_type": "stream",
     "text": [
      "c:\\Users\\franc\\OneDrive - Universidad Católica de Chile\\UC\\7° Semestre\\Mineria de datos\\IIC2433\\venv\\Lib\\site-packages\\sklearn\\linear_model\\_logistic.py:469: ConvergenceWarning: lbfgs failed to converge (status=1):\n",
      "STOP: TOTAL NO. of ITERATIONS REACHED LIMIT.\n",
      "\n",
      "Increase the number of iterations (max_iter) or scale the data as shown in:\n",
      "    https://scikit-learn.org/stable/modules/preprocessing.html\n",
      "Please also refer to the documentation for alternative solver options:\n",
      "    https://scikit-learn.org/stable/modules/linear_model.html#logistic-regression\n",
      "  n_iter_i = _check_optimize_result(\n"
     ]
    }
   ],
   "source": [
    "model_1 = LogisticRegression(solver='lbfgs')\n",
    "model_2 = LogisticRegression(solver='liblinear')\n",
    "model_3 = LogisticRegression(solver='newton-cg')\n",
    "\n",
    "model_1.fit(X_train, y_train)\n",
    "model_2.fit(X_train, y_train)\n",
    "model_3.fit(X_train, y_train)\n",
    "\n",
    "y_pred_1 = model_1.predict(X_test)\n",
    "y_pred_2 = model_2.predict(X_test)\n",
    "y_pred_3 = model_3.predict(X_test)"
   ]
  },
  {
   "cell_type": "markdown",
   "metadata": {},
   "source": [
    "Considero que probablemente el que tenga el mejor desempeño sea el solver liblinear, ya que no solo es util para problemas de clasificacion multiclase sino para binaria tambien. Por lo de las multiclases al tenr un enfoque one vs rest entonces si es que los datos no son completamente linealmente separables seguira podiendo clasificarlos de buena manera.\n",
    "\n",
    "LBFGS: Aproxima la matriz hessiana inversa, utilizando el gradiente de esta. Es una funcion parecida a la de Newton.\n",
    "Liblinear: Utiliza un algoritmo de decenso de gradiente para la optimizacion, minimizando la funcion objetivo en cada hiperplano.\n",
    "Newton-cg: Utiliza el metodo de Newton para optimizar, obteniendo la mejor minimizacion de de acuerdo al gradiente de la matriz hessiana.\n",
    "\n",
    "\n",
    "https://medium.com/@arnavr/scikit-learn-solvers-explained-780a17bc322d"
   ]
  },
  {
   "cell_type": "markdown",
   "metadata": {},
   "source": [
    "### 4.3 Evaluar Regresión Logística (2.5 pts)"
   ]
  },
  {
   "cell_type": "markdown",
   "metadata": {},
   "source": [
    "Para cada uno de tus modelos anteriores (del punto 4.2), evalua el modelo con los datos de testing y calcula `accuracy`, `precision`, `recall` y `f1-score`. Puedes apoyarte de un reporte de clasificación. Comenta todos los resultados y explica qué significan."
   ]
  },
  {
   "cell_type": "code",
   "execution_count": 21,
   "metadata": {},
   "outputs": [
    {
     "name": "stdout",
     "output_type": "stream",
     "text": [
      "Accuracy Model 1: 0.631997779217174\n",
      "Accuracy Model 2: 0.6364393448690664\n",
      "Accuracy Model 3: 0.6365318774868141\n"
     ]
    }
   ],
   "source": [
    "print(f\"Accuracy Model 1: {accuracy_score(y_test, y_pred_1)}\")\n",
    "print(f\"Accuracy Model 2: {accuracy_score(y_test, y_pred_2)}\")\n",
    "print(f\"Accuracy Model 3: {accuracy_score(y_test, y_pred_3)}\")"
   ]
  },
  {
   "cell_type": "markdown",
   "metadata": {},
   "source": [
    "En general se ve un mayor accuracy del modelo 3 es decir el que utilizó el solver newton-cg, aunque en general los 3 tuvieron un desempeño similar. Este resultado puede ser porque los datos eran mejores para ese solver, o porque el modelo se ajusto mejor a los datos. \n",
    "\n",
    "Todos los modelos tuvieron un accuracy de un 63 - 64%, es decir que un 63% de los datos fueron clasificados correctamente, lo que considero que esta bien, pero podrian ser mejores."
   ]
  },
  {
   "cell_type": "code",
   "execution_count": 22,
   "metadata": {},
   "outputs": [
    {
     "name": "stdout",
     "output_type": "stream",
     "text": [
      "\n",
      "Classification Report Model 1: \n",
      "              precision    recall  f1-score   support\n",
      "\n",
      "           0       0.60      0.59      0.59      4909\n",
      "           1       0.66      0.67      0.67      5898\n",
      "\n",
      "    accuracy                           0.63     10807\n",
      "   macro avg       0.63      0.63      0.63     10807\n",
      "weighted avg       0.63      0.63      0.63     10807\n",
      "\n"
     ]
    }
   ],
   "source": [
    "print(\"\\nClassification Report Model 1: \")\n",
    "print(classification_report(y_test, y_pred_1))"
   ]
  },
  {
   "cell_type": "code",
   "execution_count": 23,
   "metadata": {},
   "outputs": [
    {
     "name": "stdout",
     "output_type": "stream",
     "text": [
      "\n",
      "Classification Report Model 2: \n",
      "              precision    recall  f1-score   support\n",
      "\n",
      "           0       0.61      0.54      0.57      4909\n",
      "           1       0.65      0.72      0.68      5898\n",
      "\n",
      "    accuracy                           0.64     10807\n",
      "   macro avg       0.63      0.63      0.63     10807\n",
      "weighted avg       0.63      0.64      0.63     10807\n",
      "\n"
     ]
    }
   ],
   "source": [
    "print(\"\\nClassification Report Model 2: \")\n",
    "print(classification_report(y_test, y_pred_2))"
   ]
  },
  {
   "cell_type": "code",
   "execution_count": 24,
   "metadata": {},
   "outputs": [
    {
     "name": "stdout",
     "output_type": "stream",
     "text": [
      "\n",
      "Classification Report Model 3: \n",
      "              precision    recall  f1-score   support\n",
      "\n",
      "           0       0.61      0.54      0.57      4909\n",
      "           1       0.65      0.72      0.68      5898\n",
      "\n",
      "    accuracy                           0.64     10807\n",
      "   macro avg       0.63      0.63      0.63     10807\n",
      "weighted avg       0.63      0.64      0.63     10807\n",
      "\n"
     ]
    }
   ],
   "source": [
    "print(\"\\nClassification Report Model 3: \")\n",
    "print(classification_report(y_test, y_pred_3))"
   ]
  },
  {
   "cell_type": "markdown",
   "metadata": {},
   "source": [
    "En cuanto a la precision, casi todos tuvieron el mismo resultado, de un 60 - 61% para la clase 0 y un 65 - 66% para la clase 1, lo que significa que se predijo mejor a la clase 1, lo que puede ser por la cantidad de datos.\n",
    "\n",
    "En el recall hay un poco más de diferencias, en donde se ve que el modelo 2 y 3 tuvieron un mejor desepeño que el 1 para la clase 1, pero tienen una mayor separacion entre el resultado de la clase 0 y 1, en comparacion con el modelo 1 que tiene un resultado más \"parejo\" para ambas clases. En general todos identifican correctamente más a la clase 1.\n",
    "\n",
    "El f1-score es un promedio ponderado de la precision y el recall entonces por consecuencia este es un valor entre los mencionados anteiormente y significa que los modelo es bastante equilibirado comparando los resultados de ambas clases."
   ]
  },
  {
   "cell_type": "markdown",
   "metadata": {},
   "source": [
    "### 4.4 Matriz de Confusión (2 pts)"
   ]
  },
  {
   "cell_type": "markdown",
   "metadata": {},
   "source": [
    "De los modelos elegidos previamente, escoja el que mejor funcione y genere una `matriz de confusión` del modelo y responda la siguiente pregunta:\n",
    "\n",
    "1. De los errores que puede cometer el modelo, ¿cuál es el más grave en este caso?"
   ]
  },
  {
   "cell_type": "code",
   "execution_count": 25,
   "metadata": {},
   "outputs": [
    {
     "data": {
      "image/png": "[encoded data removed]",
      "text/plain": [
       "<Figure size 640x480 with 2 Axes>"
      ]
     },
     "metadata": {},
     "output_type": "display_data"
    }
   ],
   "source": [
    "conf_matrix = confusion_matrix(y_test, y_pred_3, normalize='true')\n",
    "\n",
    "# https://www.w3schools.com/python/python_ml_confusion_matrix.asp\n",
    "disp = ConfusionMatrixDisplay(confusion_matrix=conf_matrix, display_labels=[0, 1])\n",
    "disp.plot(cmap=plt.cm.Blues)\n",
    "plt.title(\"Matriz de Confusión Normalizada\")\n",
    "plt.show()"
   ]
  },
  {
   "cell_type": "markdown",
   "metadata": {},
   "source": [
    "El error más grave es el error tipo II, falso negativo, donde se predice que un hongo es comestible cuando en realidad es venenoso, esto es solo un 28% de los casos, pero es un error que puede ser fatal, ya que se esta poniendo en riesgo la vida de una persona.\n",
    "\n",
    "El error de tipo I, falso positivo, no es tan terrible porque si se dice que un hongo comestible es venenoso, no hya tanto riesgo porque si se come no pasa nada y si no se come, menos. Aunque este tuvo un valor bastante alto de 46%."
   ]
  },
  {
   "cell_type": "markdown",
   "metadata": {},
   "source": [
    "## Parte 5: Comparación de Modelos (10 Pts.)"
   ]
  },
  {
   "cell_type": "markdown",
   "metadata": {},
   "source": [
    "1. ¿Cuáles son las ventajas y desventajas de utilizar redes bayesianas en comparación con modelos de regresión logística en el contexto del conjunto de datos Mushroom Dataset? Considera la capacidad de capturar relaciones probabilísticas complejas y la interpretabilidad de los resultados.\n",
    "\n",
    "2. En base a los resultados, ¿qué modelo elegirías para clasificar los hongos entre la R? Justifica tu elección teniendo en cuenta las métricas de evaluación y la gravedad de los errores tipo I y tipo II."
   ]
  },
  {
   "cell_type": "markdown",
   "metadata": {},
   "source": [
    "Ventajas: Las redes bayesianas pueden capturar relaciones probabilisticas más complejas y dependencias entre las variables, si es que se tienen y se calculan bien las probabilidades de estas. Además pueden ser muy faciles de interpretar si se grafica la red o si se muestran las probabilidades condicionales de las variables más importantes. Ota de las ventajas es que para los modelos de regresion logistica se supone de antemano linealidad o una pseudo linealidad en los datos, en cambio para las redes bayesianas no.\n",
    "\n",
    "Desventajas: Los modelos de regresion logistica pueden ser más faciles y rapidos de hacer, además que la interpretacion de los resultados de estos no es mala, para las redes bayesianas es necesario más conocimiento para poder graficar y representar la informacion de una manera sencilla, en cambio para la regresion logistica son numeros."
   ]
  },
  {
   "cell_type": "markdown",
   "metadata": {},
   "source": [
    "Por los resultados vistos y explicados anteriormente, considero que la mejor eleccion seria la de utilizar el MLP, pues tuvo un mejor desempeño en general y en la matriz de confusion, tuvo menos falsos negativos que la regresion logistica, lo que es un error más grave. Además, creo que puede ser una especie de \"intermedio\" entre las redes bayesianas y la regresion logistica, pues puede capturar relaciones complejas como lo hacen las redes bayesianas y tiene la facilidad de interpretacion de los modelos de regresion logistica sin ser necesario graficar o visualizar los datos.  "
   ]
  }
 ],
 "metadata": {
  "kernelspec": {
   "display_name": "Python 3",
   "language": "python",
   "name": "python3"
  },
  "language_info": {
   "codemirror_mode": {
    "name": "ipython",
    "version": 3
   },
   "file_extension": ".py",
   "mimetype": "text/x-python",
   "name": "python",
   "nbconvert_exporter": "python",
   "pygments_lexer": "ipython3",
   "version": "3.12.2"
  }
 },
 "nbformat": 4,
 "nbformat_minor": 2
}
