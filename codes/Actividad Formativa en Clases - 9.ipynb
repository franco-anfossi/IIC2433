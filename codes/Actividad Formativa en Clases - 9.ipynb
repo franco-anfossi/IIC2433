{
 "cells": [
  {
   "cell_type": "markdown",
   "metadata": {},
   "source": [
    "# IIC-2433 Minería de Datos UC"
   ]
  },
  {
   "cell_type": "markdown",
   "metadata": {},
   "source": [
    "- Versiones de librerías, python 3.8.10\n",
    "\n",
    "- numpy 1.20.3\n",
    "- sklearn 1.0.2\n",
    "- nltk 3.7\n",
    "- keras 2.9.0\n",
    "- tensorflow 2.9.1"
   ]
  },
  {
   "cell_type": "markdown",
   "metadata": {},
   "source": [
    "\n",
    "## Actividad en clase\n",
    "\n",
    "Usando el algoritmo **VAE**, haga lo siguiente:\n",
    "\n",
    "- Entrene el **VAE** sobre el dataset de mnist digits a 28x28 (el del jupyter 13). Use la partición de entrenamiento.\n",
    "- Entrene una **nuSVC** a 0.1 sobre los primeros 5000 ejemplos de entrenamiento del dataset. Fíjese que la nuSVC es unidimensional, pero sus datos son 2D, por lo que va a tener que hacer un reshape.\n",
    "- Evalúe el clasificador sobre los primeros 1000 ejemplos de testing.\n",
    "- Genere un dígito con el VAE.\n",
    "- Revise la escala del ejemplo generado con el VAE y hagalo consistente con la escala de los ejemplos usados para entrenar el clasificador. Va a tener que reescalar usanto la transformación min max. Hágala Ud. mismo.\n",
    "- Usando el dígito sintético generado por el VAE y reescalado, páselo por el clasificador. ¿El resultado es correcto?\n",
    "- Cuanto termine, me avisa para entregarle una **L (logrado)**.\n",
    "- Recuerde que cada L es una décima más en la nota de la asignatura.\n",
    "- Pueden trabajar de a dos.\n",
    "\n",
    "***Tiene hasta el final de la clase.***\n"
   ]
  },
  {
   "cell_type": "markdown",
   "metadata": {},
   "source": [
    "# Solución"
   ]
  },
  {
   "cell_type": "code",
   "execution_count": 1,
   "metadata": {},
   "outputs": [
    {
     "name": "stderr",
     "output_type": "stream",
     "text": [
      "2024-05-25 23:15:40.681296: I tensorflow/core/util/util.cc:169] oneDNN custom operations are on. You may see slightly different numerical results due to floating-point round-off errors from different computation orders. To turn them off, set the environment variable `TF_ENABLE_ONEDNN_OPTS=0`.\n"
     ]
    }
   ],
   "source": [
    "import numpy as np\n",
    "import tensorflow as tf\n",
    "from tensorflow import keras\n",
    "from tensorflow.keras import layers"
   ]
  },
  {
   "cell_type": "code",
   "execution_count": 2,
   "metadata": {},
   "outputs": [],
   "source": [
    "class Sampling(layers.Layer):\n",
    "\n",
    "    def call(self, inputs):\n",
    "        z_mean, z_log_var = inputs\n",
    "        batch = tf.shape(z_mean)[0]\n",
    "        dim = tf.shape(z_mean)[1]\n",
    "        epsilon = tf.keras.backend.random_normal(shape=(batch, dim))\n",
    "        return z_mean + tf.exp(0.5 * z_log_var) * epsilon"
   ]
  },
  {
   "cell_type": "code",
   "execution_count": 3,
   "metadata": {},
   "outputs": [
    {
     "name": "stdout",
     "output_type": "stream",
     "text": [
      "Model: \"encoder\"\n",
      "__________________________________________________________________________________________________\n",
      " Layer (type)                   Output Shape         Param #     Connected to                     \n",
      "==================================================================================================\n",
      " input_1 (InputLayer)           [(None, 28, 28, 1)]  0           []                               \n",
      "                                                                                                  \n",
      " conv2d (Conv2D)                (None, 14, 14, 32)   320         ['input_1[0][0]']                \n",
      "                                                                                                  \n",
      " conv2d_1 (Conv2D)              (None, 7, 7, 16)     4624        ['conv2d[0][0]']                 \n",
      "                                                                                                  \n",
      " flatten (Flatten)              (None, 784)          0           ['conv2d_1[0][0]']               \n",
      "                                                                                                  \n",
      " dense (Dense)                  (None, 16)           12560       ['flatten[0][0]']                \n",
      "                                                                                                  \n",
      " z_mean (Dense)                 (None, 2)            34          ['dense[0][0]']                  \n",
      "                                                                                                  \n",
      " z_log_var (Dense)              (None, 2)            34          ['dense[0][0]']                  \n",
      "                                                                                                  \n",
      " sampling (Sampling)            (None, 2)            0           ['z_mean[0][0]',                 \n",
      "                                                                  'z_log_var[0][0]']              \n",
      "                                                                                                  \n",
      "==================================================================================================\n",
      "Total params: 17,572\n",
      "Trainable params: 17,572\n",
      "Non-trainable params: 0\n",
      "__________________________________________________________________________________________________\n"
     ]
    },
    {
     "name": "stderr",
     "output_type": "stream",
     "text": [
      "2024-05-25 23:15:43.541552: W tensorflow/stream_executor/platform/default/dso_loader.cc:64] Could not load dynamic library 'libcufft.so.10'; dlerror: libcufft.so.10: cannot open shared object file: No such file or directory; LD_LIBRARY_PATH: /usr/local/cuda-12.0/lib64:/usr/local/cuda-11.8/lib64\n",
      "2024-05-25 23:15:43.576534: W tensorflow/core/common_runtime/gpu/gpu_device.cc:1850] Cannot dlopen some GPU libraries. Please make sure the missing libraries mentioned above are installed properly if you would like to use GPU. Follow the guide at https://www.tensorflow.org/install/gpu for how to download and setup the required libraries for your platform.\n",
      "Skipping registering GPU devices...\n",
      "2024-05-25 23:15:43.577118: I tensorflow/core/platform/cpu_feature_guard.cc:193] This TensorFlow binary is optimized with oneAPI Deep Neural Network Library (oneDNN) to use the following CPU instructions in performance-critical operations:  AVX2 AVX512F AVX512_VNNI FMA\n",
      "To enable them in other operations, rebuild TensorFlow with the appropriate compiler flags.\n"
     ]
    }
   ],
   "source": [
    "latent_dim = 2\n",
    "\n",
    "encoder_inputs = keras.Input(shape=(28, 28, 1))\n",
    "x = layers.Conv2D(32, 3, activation=\"relu\", strides=2, padding=\"same\")(encoder_inputs) \n",
    "x = layers.Conv2D(16, 3, activation=\"relu\", strides=2, padding=\"same\")(x)\n",
    "x = layers.Flatten()(x)\n",
    "x = layers.Dense(16, activation=\"relu\")(x)\n",
    "z_mean = layers.Dense(latent_dim, name=\"z_mean\")(x)\n",
    "z_log_var = layers.Dense(latent_dim, name=\"z_log_var\")(x)\n",
    "z = Sampling()([z_mean, z_log_var])\n",
    "encoder = keras.Model(encoder_inputs, [z_mean, z_log_var, z], name=\"encoder\")\n",
    "encoder.summary()"
   ]
  },
  {
   "cell_type": "code",
   "execution_count": 4,
   "metadata": {},
   "outputs": [
    {
     "name": "stdout",
     "output_type": "stream",
     "text": [
      "Model: \"decoder\"\n",
      "_________________________________________________________________\n",
      " Layer (type)                Output Shape              Param #   \n",
      "=================================================================\n",
      " input_2 (InputLayer)        [(None, 2)]               0         \n",
      "                                                                 \n",
      " dense_1 (Dense)             (None, 784)               2352      \n",
      "                                                                 \n",
      " reshape (Reshape)           (None, 7, 7, 16)          0         \n",
      "                                                                 \n",
      " conv2d_transpose (Conv2DTra  (None, 14, 14, 32)       4640      \n",
      " nspose)                                                         \n",
      "                                                                 \n",
      " conv2d_transpose_1 (Conv2DT  (None, 28, 28, 64)       18496     \n",
      " ranspose)                                                       \n",
      "                                                                 \n",
      " conv2d_transpose_2 (Conv2DT  (None, 28, 28, 1)        577       \n",
      " ranspose)                                                       \n",
      "                                                                 \n",
      "=================================================================\n",
      "Total params: 26,065\n",
      "Trainable params: 26,065\n",
      "Non-trainable params: 0\n",
      "_________________________________________________________________\n"
     ]
    }
   ],
   "source": [
    "latent_inputs = keras.Input(shape=(latent_dim,))\n",
    "x = layers.Dense(7 * 7 * 16, activation=\"relu\")(latent_inputs)\n",
    "x = layers.Reshape((7, 7, 16))(x)\n",
    "x = layers.Conv2DTranspose(32, 3, activation=\"relu\", strides=2, padding=\"same\")(x)\n",
    "x = layers.Conv2DTranspose(64, 3, activation=\"relu\", strides=2, padding=\"same\")(x)\n",
    "decoder_outputs = layers.Conv2DTranspose(1, 3, activation=\"sigmoid\", padding=\"same\")(x)\n",
    "decoder = keras.Model(latent_inputs, decoder_outputs, name=\"decoder\")\n",
    "decoder.summary()"
   ]
  },
  {
   "cell_type": "code",
   "execution_count": 5,
   "metadata": {},
   "outputs": [],
   "source": [
    "class VAE(keras.Model):\n",
    "    def __init__(self, encoder, decoder, **kwargs):\n",
    "        super().__init__(**kwargs)\n",
    "        self.encoder = encoder\n",
    "        self.decoder = decoder\n",
    "        self.total_loss_tracker = keras.metrics.Mean(name=\"total_loss\")\n",
    "        self.reconstruction_loss_tracker = keras.metrics.Mean(\n",
    "            name=\"reconstruction_loss\"\n",
    "        )\n",
    "        self.kl_loss_tracker = keras.metrics.Mean(name=\"kl_loss\")\n",
    "\n",
    "    @property\n",
    "    def metrics(self):\n",
    "        return [\n",
    "            self.total_loss_tracker,\n",
    "            self.reconstruction_loss_tracker,\n",
    "            self.kl_loss_tracker,\n",
    "        ]\n",
    "\n",
    "    def train_step(self, data):\n",
    "        with tf.GradientTape() as tape:\n",
    "            z_mean, z_log_var, z = self.encoder(data)\n",
    "            reconstruction = self.decoder(z)\n",
    "            reconstruction_loss = tf.reduce_mean(\n",
    "                tf.reduce_sum(\n",
    "                    keras.losses.binary_crossentropy(data, reconstruction), axis=(1, 2)\n",
    "                )\n",
    "            )\n",
    "            kl_loss = -0.5 * (1 + z_log_var - tf.square(z_mean) - tf.exp(z_log_var))\n",
    "            kl_loss = tf.reduce_mean(tf.reduce_sum(kl_loss, axis=1))\n",
    "            total_loss = reconstruction_loss + kl_loss\n",
    "        grads = tape.gradient(total_loss, self.trainable_weights)\n",
    "        self.optimizer.apply_gradients(zip(grads, self.trainable_weights))\n",
    "        self.total_loss_tracker.update_state(total_loss)\n",
    "        self.reconstruction_loss_tracker.update_state(reconstruction_loss)\n",
    "        self.kl_loss_tracker.update_state(kl_loss)\n",
    "        return {\n",
    "            \"loss\": self.total_loss_tracker.result(),\n",
    "            \"reconstruction_loss\": self.reconstruction_loss_tracker.result(),\n",
    "            \"kl_loss\": self.kl_loss_tracker.result(),\n",
    "        }"
   ]
  },
  {
   "cell_type": "code",
   "execution_count": 6,
   "metadata": {},
   "outputs": [],
   "source": [
    "(x_train, _), (x_test, _) = keras.datasets.mnist.load_data()"
   ]
  },
  {
   "cell_type": "code",
   "execution_count": 7,
   "metadata": {},
   "outputs": [
    {
     "data": {
      "text/plain": [
       "(60000, 28, 28)"
      ]
     },
     "execution_count": 7,
     "metadata": {},
     "output_type": "execute_result"
    }
   ],
   "source": [
    "x_train.shape"
   ]
  },
  {
   "cell_type": "code",
   "execution_count": 8,
   "metadata": {
    "scrolled": true
   },
   "outputs": [
    {
     "name": "stdout",
     "output_type": "stream",
     "text": [
      "Epoch 1/30\n",
      "547/547 [==============================] - 17s 30ms/step - loss: 272.3409 - reconstruction_loss: 210.5092 - kl_loss: 2.7102\n",
      "Epoch 2/30\n",
      "547/547 [==============================] - 16s 29ms/step - loss: 177.1413 - reconstruction_loss: 169.9348 - kl_loss: 4.3813\n",
      "Epoch 3/30\n",
      "547/547 [==============================] - 16s 30ms/step - loss: 168.3144 - reconstruction_loss: 161.9209 - kl_loss: 4.8341\n",
      "Epoch 4/30\n",
      "547/547 [==============================] - 17s 31ms/step - loss: 163.5134 - reconstruction_loss: 157.4353 - kl_loss: 5.1477\n",
      "Epoch 5/30\n",
      "547/547 [==============================] - 17s 31ms/step - loss: 160.7042 - reconstruction_loss: 154.9619 - kl_loss: 5.3287\n",
      "Epoch 6/30\n",
      "547/547 [==============================] - 17s 31ms/step - loss: 159.2164 - reconstruction_loss: 153.5233 - kl_loss: 5.4293\n",
      "Epoch 7/30\n",
      "547/547 [==============================] - 17s 31ms/step - loss: 158.0317 - reconstruction_loss: 152.3881 - kl_loss: 5.5051\n",
      "Epoch 8/30\n",
      "547/547 [==============================] - 17s 31ms/step - loss: 157.1530 - reconstruction_loss: 151.5609 - kl_loss: 5.5660\n",
      "Epoch 9/30\n",
      "547/547 [==============================] - 17s 32ms/step - loss: 156.2403 - reconstruction_loss: 150.8133 - kl_loss: 5.6317\n",
      "Epoch 10/30\n",
      "547/547 [==============================] - 17s 31ms/step - loss: 156.0535 - reconstruction_loss: 150.1778 - kl_loss: 5.6768\n",
      "Epoch 11/30\n",
      "547/547 [==============================] - 17s 31ms/step - loss: 155.2106 - reconstruction_loss: 149.5404 - kl_loss: 5.7242\n",
      "Epoch 12/30\n",
      "547/547 [==============================] - 17s 32ms/step - loss: 155.1599 - reconstruction_loss: 149.1558 - kl_loss: 5.7460\n",
      "Epoch 13/30\n",
      "547/547 [==============================] - 18s 32ms/step - loss: 154.7310 - reconstruction_loss: 148.6589 - kl_loss: 5.7863\n",
      "Epoch 14/30\n",
      "547/547 [==============================] - 18s 32ms/step - loss: 154.1566 - reconstruction_loss: 148.3471 - kl_loss: 5.8152\n",
      "Epoch 15/30\n",
      "547/547 [==============================] - 17s 32ms/step - loss: 153.8179 - reconstruction_loss: 148.0360 - kl_loss: 5.8322\n",
      "Epoch 16/30\n",
      "547/547 [==============================] - 18s 32ms/step - loss: 153.5043 - reconstruction_loss: 147.6032 - kl_loss: 5.8597\n",
      "Epoch 17/30\n",
      "547/547 [==============================] - 17s 32ms/step - loss: 153.6158 - reconstruction_loss: 147.4414 - kl_loss: 5.8863\n",
      "Epoch 18/30\n",
      "547/547 [==============================] - 17s 32ms/step - loss: 152.9873 - reconstruction_loss: 147.2170 - kl_loss: 5.8976\n",
      "Epoch 19/30\n",
      "547/547 [==============================] - 18s 32ms/step - loss: 152.7796 - reconstruction_loss: 146.8125 - kl_loss: 5.9264\n",
      "Epoch 20/30\n",
      "547/547 [==============================] - 17s 32ms/step - loss: 152.1207 - reconstruction_loss: 146.6311 - kl_loss: 5.9570\n",
      "Epoch 21/30\n",
      "547/547 [==============================] - 18s 32ms/step - loss: 152.3762 - reconstruction_loss: 146.4128 - kl_loss: 5.9701\n",
      "Epoch 22/30\n",
      "547/547 [==============================] - 18s 32ms/step - loss: 152.5221 - reconstruction_loss: 146.2403 - kl_loss: 5.9881\n",
      "Epoch 23/30\n",
      "547/547 [==============================] - 17s 32ms/step - loss: 152.0186 - reconstruction_loss: 146.0787 - kl_loss: 5.9914\n",
      "Epoch 24/30\n",
      "547/547 [==============================] - 18s 32ms/step - loss: 151.6496 - reconstruction_loss: 145.8464 - kl_loss: 6.0182\n",
      "Epoch 25/30\n",
      "547/547 [==============================] - 17s 31ms/step - loss: 151.5426 - reconstruction_loss: 145.7165 - kl_loss: 6.0119\n",
      "Epoch 26/30\n",
      "547/547 [==============================] - 17s 31ms/step - loss: 151.4256 - reconstruction_loss: 145.5337 - kl_loss: 6.0235\n",
      "Epoch 27/30\n",
      "547/547 [==============================] - 16s 30ms/step - loss: 151.4967 - reconstruction_loss: 145.4191 - kl_loss: 6.0398\n",
      "Epoch 28/30\n",
      "547/547 [==============================] - 17s 31ms/step - loss: 151.2746 - reconstruction_loss: 145.3365 - kl_loss: 6.0547\n",
      "Epoch 29/30\n",
      "547/547 [==============================] - 17s 32ms/step - loss: 151.2766 - reconstruction_loss: 145.1543 - kl_loss: 6.0394\n",
      "Epoch 30/30\n",
      "547/547 [==============================] - 17s 32ms/step - loss: 151.1823 - reconstruction_loss: 144.9866 - kl_loss: 6.0721\n"
     ]
    }
   ],
   "source": [
    "mnist_digits = np.concatenate([x_train, x_test], axis=0)\n",
    "mnist_digits = np.expand_dims(mnist_digits, -1).astype(\"float32\") / 255\n",
    "\n",
    "vae = VAE(encoder, decoder)\n",
    "vae.compile(optimizer=keras.optimizers.Adam())\n",
    "history = vae.fit(mnist_digits, epochs=30, batch_size=128)"
   ]
  },
  {
   "cell_type": "code",
   "execution_count": 9,
   "metadata": {},
   "outputs": [],
   "source": [
    "import random\n",
    "import matplotlib.pyplot as plt\n",
    "\n",
    "digit_size = 28\n",
    "scale = 1.0\n",
    "\n",
    "def generate_image(scale, digit_size):\n",
    "    x_ = random.uniform(-scale, scale) # sampling de Uniforme[-1,+1]\n",
    "    y_ = random.uniform(-scale, scale) # sampling de Uniforme[-1,+1]\n",
    "    z_sample = np.array([[x_, y_]])\n",
    "    x_decoded = vae.decoder.predict(z_sample) # pasamos por el decoder\n",
    "    digit = x_decoded[0].reshape(digit_size, digit_size) # le hacemos un reshape al formato de la imagen (28x28)\n",
    "\n",
    "    return digit\n",
    "\n",
    "def plot_image(digit):\n",
    "    plt.figure(figsize=(1,1))\n",
    "    plt.axis('off')\n",
    "    plt.imshow(digit, cmap=\"Greys_r\")\n",
    "    plt.show()"
   ]
  },
  {
   "cell_type": "code",
   "execution_count": 71,
   "metadata": {},
   "outputs": [
    {
     "name": "stdout",
     "output_type": "stream",
     "text": [
      "1/1 [==============================] - 0s 28ms/step\n"
     ]
    }
   ],
   "source": [
    "digit = generate_image(scale, digit_size)"
   ]
  },
  {
   "cell_type": "code",
   "execution_count": 72,
   "metadata": {},
   "outputs": [
    {
     "data": {
      "image/png": "[encoded data removed]",
      "text/plain": [
       "<Figure size 72x72 with 1 Axes>"
      ]
     },
     "metadata": {
      "needs_background": "light"
     },
     "output_type": "display_data"
    }
   ],
   "source": [
    "plot_image(digit)"
   ]
  },
  {
   "cell_type": "code",
   "execution_count": 55,
   "metadata": {},
   "outputs": [],
   "source": [
    "(x_train, y_train), (x_test, y_test) = keras.datasets.mnist.load_data()"
   ]
  },
  {
   "cell_type": "code",
   "execution_count": 56,
   "metadata": {},
   "outputs": [],
   "source": [
    "x_train = x_train[:5000,:,:]\n",
    "y_train = y_train[:5000]\n",
    "x_test = x_test[:1000,:,:]\n",
    "y_test = y_test[:1000]"
   ]
  },
  {
   "cell_type": "code",
   "execution_count": 57,
   "metadata": {},
   "outputs": [
    {
     "data": {
      "text/plain": [
       "(5000, 28, 28)"
      ]
     },
     "execution_count": 57,
     "metadata": {},
     "output_type": "execute_result"
    }
   ],
   "source": [
    "x_train.shape"
   ]
  },
  {
   "cell_type": "code",
   "execution_count": 58,
   "metadata": {},
   "outputs": [],
   "source": [
    "x_train = x_train.reshape(5000,784)\n",
    "x_test = x_test.reshape(1000,784)"
   ]
  },
  {
   "cell_type": "code",
   "execution_count": 59,
   "metadata": {},
   "outputs": [
    {
     "name": "stdout",
     "output_type": "stream",
     "text": [
      "              precision    recall  f1-score   support\n",
      "\n",
      "           0       0.91      0.96      0.94        85\n",
      "           1       0.99      0.98      0.99       126\n",
      "           2       0.92      0.92      0.92       116\n",
      "           3       0.93      0.92      0.92       107\n",
      "           4       0.91      0.93      0.92       110\n",
      "           5       0.94      0.90      0.92        87\n",
      "           6       0.95      0.92      0.94        87\n",
      "           7       0.85      0.93      0.89        99\n",
      "           8       0.90      0.89      0.89        89\n",
      "           9       0.92      0.87      0.90        94\n",
      "\n",
      "    accuracy                           0.92      1000\n",
      "   macro avg       0.92      0.92      0.92      1000\n",
      "weighted avg       0.92      0.92      0.92      1000\n",
      "\n"
     ]
    }
   ],
   "source": [
    "from sklearn.svm import NuSVC\n",
    "from sklearn.pipeline import make_pipeline\n",
    "from sklearn.preprocessing import StandardScaler\n",
    "from sklearn import metrics\n",
    "from sklearn.model_selection import train_test_split\n",
    "\n",
    "\n",
    "clf = make_pipeline(StandardScaler(), NuSVC(nu=0.1))\n",
    "clf.fit(x_train, y_train)\n",
    "y_pred = clf.predict(x_test)\n",
    "print(metrics.classification_report(y_test, y_pred))"
   ]
  },
  {
   "cell_type": "code",
   "execution_count": 123,
   "metadata": {},
   "outputs": [
    {
     "name": "stdout",
     "output_type": "stream",
     "text": [
      "1/1 [==============================] - 0s 17ms/step\n"
     ]
    },
    {
     "data": {
      "image/png": "[encoded data removed]",
      "text/plain": [
       "<Figure size 72x72 with 1 Axes>"
      ]
     },
     "metadata": {
      "needs_background": "light"
     },
     "output_type": "display_data"
    }
   ],
   "source": [
    "digit = generate_image(scale, digit_size)\n",
    "plot_image(digit)"
   ]
  },
  {
   "cell_type": "code",
   "execution_count": 124,
   "metadata": {},
   "outputs": [],
   "source": [
    "max = 255\n",
    "min = 0\n",
    "\n",
    "X_std = (digit - np.min(digit)) / (np.max(digit) - np.min(digit))\n",
    "X_scaled = X_std * (max - min) + min"
   ]
  },
  {
   "cell_type": "code",
   "execution_count": 125,
   "metadata": {},
   "outputs": [
    {
     "data": {
      "text/plain": [
       "array([2], dtype=uint8)"
      ]
     },
     "execution_count": 125,
     "metadata": {},
     "output_type": "execute_result"
    }
   ],
   "source": [
    "clf.predict(X_scaled.reshape(1,784))"
   ]
  },
  {
   "cell_type": "code",
   "execution_count": null,
   "metadata": {},
   "outputs": [],
   "source": []
  }
 ],
 "metadata": {
  "kernelspec": {
   "display_name": "Python 3 (ipykernel)",
   "language": "python",
   "name": "python3"
  },
  "language_info": {
   "codemirror_mode": {
    "name": "ipython",
    "version": 3
   },
   "file_extension": ".py",
   "mimetype": "text/x-python",
   "name": "python",
   "nbconvert_exporter": "python",
   "pygments_lexer": "ipython3",
   "version": "3.10.11"
  }
 },
 "nbformat": 4,
 "nbformat_minor": 4
}
