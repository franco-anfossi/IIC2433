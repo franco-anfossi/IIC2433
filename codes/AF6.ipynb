{
 "cells": [
  {
   "cell_type": "code",
   "execution_count": 4,
   "metadata": {},
   "outputs": [],
   "source": [
    "import numpy as np\n",
    "import pandas as pd\n",
    "\n",
    "data = pd.DataFrame(np.random.randint(0, 3, size=(2500,8)), columns=list('ABCDEFGH'))\n",
    "data['A'] += data['B'] + data['C']\n",
    "data['H'] = data['G'] - data['A'] + data['F']  \n",
    "data['G'] += data['D'] + data['E']"
   ]
  },
  {
   "cell_type": "code",
   "execution_count": 5,
   "metadata": {},
   "outputs": [
    {
     "name": "stderr",
     "output_type": "stream",
     "text": [
      "c:\\Users\\franc\\OneDrive - Universidad Católica de Chile\\UC\\7° Semestre\\Mineria de datos\\IIC2433\\venv\\Lib\\site-packages\\tqdm\\auto.py:21: TqdmWarning: IProgress not found. Please update jupyter and ipywidgets. See https://ipywidgets.readthedocs.io/en/stable/user_install.html\n",
      "  from .autonotebook import tqdm as notebook_tqdm\n",
      "  0%|          | 8/1000000 [00:00<13:14:04, 20.99it/s]"
     ]
    },
    {
     "name": "stdout",
     "output_type": "stream",
     "text": [
      "[('A', 'H'), ('A', 'C'), ('A', 'B'), ('B', 'C'), ('D', 'G'), ('E', 'G'), ('F', 'H')]\n"
     ]
    },
    {
     "name": "stderr",
     "output_type": "stream",
     "text": [
      "\n"
     ]
    }
   ],
   "source": [
    "# aprenda red dependencias bic y hill\n",
    "from pgmpy.estimators import HillClimbSearch\n",
    "from pgmpy.estimators import BicScore\n",
    "\n",
    "bic = BicScore(data)\n",
    "\n",
    "hc = HillClimbSearch(data)\n",
    "best_model = hc.estimate(scoring_method=BicScore(data))\n",
    "print(best_model.edges())"
   ]
  },
  {
   "cell_type": "code",
   "execution_count": 6,
   "metadata": {},
   "outputs": [],
   "source": [
    "# use dependencias para red bayesiana\n"
   ]
  }
 ],
 "metadata": {
  "kernelspec": {
   "display_name": "Python 3",
   "language": "python",
   "name": "python3"
  },
  "language_info": {
   "codemirror_mode": {
    "name": "ipython",
    "version": 3
   },
   "file_extension": ".py",
   "mimetype": "text/x-python",
   "name": "python",
   "nbconvert_exporter": "python",
   "pygments_lexer": "ipython3",
   "version": "3.12.2"
  }
 },
 "nbformat": 4,
 "nbformat_minor": 2
}
